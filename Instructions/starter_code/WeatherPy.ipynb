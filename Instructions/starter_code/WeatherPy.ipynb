{
 "cells": [
  {
   "cell_type": "markdown",
   "metadata": {},
   "source": [
    "# WeatherPy\n",
    "----\n",
    "\n",
    "#### Note\n",
    "* Instructions have been included for each segment. You do not have to follow them exactly, but they are included to help you think through the steps."
   ]
  },
  {
   "cell_type": "code",
   "execution_count": 8,
   "metadata": {
    "scrolled": true
   },
   "outputs": [],
   "source": [
    "# Dependencies and Setup\n",
    "import matplotlib.pyplot as plt\n",
    "import pandas as pd\n",
    "import numpy as np\n",
    "import requests\n",
    "import time\n",
    "from scipy.stats import linregress\n",
    "\n",
    "# Import API key\n",
    "from api_keys import weather_api_key\n",
    "weather_api_key='47e95aa0b4f075cbb3164651c35b7c0a'\n",
    "# Incorporated citipy to determine city based on latitude and longitude\n",
    "from citipy import citipy\n",
    "\n",
    "# Output File (CSV)\n",
    "output_data_file = \"output_data/cities.csv\"\n",
    "\n",
    "# Range of latitudes and longitudes\n",
    "lat_range = (-90, 90)\n",
    "lng_range = (-180, 180)"
   ]
  },
  {
   "cell_type": "code",
   "execution_count": null,
   "metadata": {},
   "outputs": [],
   "source": []
  },
  {
   "cell_type": "markdown",
   "metadata": {},
   "source": [
    "## Generate Cities List"
   ]
  },
  {
   "cell_type": "code",
   "execution_count": 9,
   "metadata": {},
   "outputs": [
    {
     "data": {
      "text/plain": [
       "['tiksi',\n",
       " 'busselton',\n",
       " 'palmer',\n",
       " 'fare',\n",
       " 'taolanaro',\n",
       " 'upernavik',\n",
       " 'illoqqortoormiut',\n",
       " 'bluff',\n",
       " 'punta arenas',\n",
       " 'saint-philippe',\n",
       " 'yellowknife',\n",
       " 'grand gaube',\n",
       " 'normandin',\n",
       " 'ushuaia',\n",
       " 'rikitea',\n",
       " 'atuona',\n",
       " 'albany',\n",
       " 'akdepe',\n",
       " 'hofn',\n",
       " 'almaznyy',\n",
       " 'zhigansk',\n",
       " 'salalah',\n",
       " 'maltahohe',\n",
       " 'leningradskiy',\n",
       " 'vaitupu',\n",
       " 'coihaique',\n",
       " 'belushya guba',\n",
       " 'hachinohe',\n",
       " 'itambe',\n",
       " 'lompoc',\n",
       " 'bredasdorp',\n",
       " 'hilo',\n",
       " 'tasiilaq',\n",
       " 'enshi',\n",
       " 'new norfolk',\n",
       " 'tazovskiy',\n",
       " 'vechelde',\n",
       " 'hermanus',\n",
       " 'jamestown',\n",
       " 'klaksvik',\n",
       " 'carnarvon',\n",
       " 'umm jarr',\n",
       " 'sulangan',\n",
       " 'abalak',\n",
       " 'souillac',\n",
       " 'barrow',\n",
       " 'cherskiy',\n",
       " 'saint-joseph',\n",
       " 'iquique',\n",
       " 'lebu',\n",
       " 'ankang',\n",
       " 'meulaboh',\n",
       " 'pocking',\n",
       " 'sao filipe',\n",
       " 'chancay',\n",
       " 'puerto ayora',\n",
       " 'kuching',\n",
       " 'tessalit',\n",
       " 'banda aceh',\n",
       " 'adrar',\n",
       " 'norman wells',\n",
       " 'houma',\n",
       " 'qinhuangdao',\n",
       " 'bako',\n",
       " 'moga',\n",
       " 'grand river south east',\n",
       " 'sitka',\n",
       " 'hobart',\n",
       " 'berwick',\n",
       " 'katsuura',\n",
       " 'kuminskiy',\n",
       " 'oistins',\n",
       " 'chokurdakh',\n",
       " 'saskylakh']"
      ]
     },
     "execution_count": 9,
     "metadata": {},
     "output_type": "execute_result"
    }
   ],
   "source": [
    "# List for holding lat_lngs and cities\n",
    "lat_lngs = []\n",
    "cities = []\n",
    "\n",
    "# Create a set of random lat and lng combinations\n",
    "lats = np.random.uniform(lat_range[0], lat_range[1], size=100)\n",
    "lngs = np.random.uniform(lng_range[0], lng_range[1], size=100)\n",
    "lat_lngs = zip(lats, lngs)\n",
    "\n",
    "# Identify nearest city for each lat, lng combination\n",
    "for lat_lng in lat_lngs:\n",
    "    city = citipy.nearest_city(lat_lng[0], lat_lng[1]).city_name\n",
    "    \n",
    "    # If the city is unique, then add it to a our cities list\n",
    "    if city not in cities:\n",
    "        cities.append(city)\n",
    "\n",
    "# Print the city count to confirm sufficient count\n",
    "len(cities)\n",
    "cities"
   ]
  },
  {
   "cell_type": "code",
   "execution_count": null,
   "metadata": {},
   "outputs": [],
   "source": []
  },
  {
   "cell_type": "markdown",
   "metadata": {},
   "source": [
    "### Perform API Calls\n",
    "* Perform a weather check on each city using a series of successive API calls.\n",
    "* Include a print log of each city as it'sbeing processed (with the city number and city name).\n"
   ]
  },
  {
   "cell_type": "code",
   "execution_count": 10,
   "metadata": {
    "scrolled": true
   },
   "outputs": [
    {
     "name": "stdout",
     "output_type": "stream",
     "text": [
      "processing tiksi\n",
      "processing busselton\n",
      "processing palmer\n",
      "processing fare\n",
      "processing taolanaro\n",
      "skipped this city\n",
      "processing upernavik\n",
      "processing illoqqortoormiut\n",
      "skipped this city\n",
      "processing bluff\n",
      "processing punta arenas\n",
      "processing saint-philippe\n",
      "processing yellowknife\n",
      "processing grand gaube\n",
      "processing normandin\n",
      "processing ushuaia\n",
      "processing rikitea\n",
      "processing atuona\n",
      "processing albany\n",
      "processing akdepe\n",
      "processing hofn\n",
      "processing almaznyy\n",
      "processing zhigansk\n",
      "processing salalah\n",
      "processing maltahohe\n",
      "processing leningradskiy\n",
      "processing vaitupu\n",
      "skipped this city\n",
      "processing coihaique\n",
      "processing belushya guba\n",
      "skipped this city\n",
      "processing hachinohe\n",
      "processing itambe\n",
      "processing lompoc\n",
      "processing bredasdorp\n",
      "processing hilo\n",
      "processing tasiilaq\n",
      "processing enshi\n",
      "processing new norfolk\n",
      "processing tazovskiy\n",
      "processing vechelde\n",
      "processing hermanus\n",
      "processing jamestown\n",
      "processing klaksvik\n",
      "processing carnarvon\n",
      "processing umm jarr\n",
      "skipped this city\n",
      "processing sulangan\n",
      "processing abalak\n",
      "processing souillac\n",
      "processing barrow\n",
      "processing cherskiy\n",
      "processing saint-joseph\n",
      "processing iquique\n",
      "processing lebu\n",
      "processing ankang\n",
      "processing meulaboh\n",
      "processing pocking\n",
      "processing sao filipe\n",
      "processing chancay\n",
      "processing puerto ayora\n",
      "processing kuching\n",
      "processing tessalit\n",
      "processing banda aceh\n",
      "processing adrar\n",
      "processing norman wells\n",
      "processing houma\n",
      "processing qinhuangdao\n",
      "processing bako\n",
      "processing moga\n",
      "processing grand river south east\n",
      "skipped this city\n",
      "processing sitka\n",
      "processing hobart\n",
      "processing berwick\n",
      "processing katsuura\n",
      "processing kuminskiy\n",
      "processing oistins\n",
      "processing chokurdakh\n",
      "processing saskylakh\n"
     ]
    }
   ],
   "source": [
    "temp=[]\n",
    "humidity=[]\n",
    "cloudy=[]\n",
    "wind_speed=[]\n",
    "date=[]\n",
    "long=[]\n",
    "lat=[]\n",
    "city=[]\n",
    "for city in cities:\n",
    "    time.sleep(1)\n",
    "    print(f'processing {city}')\n",
    "    url = \"http://api.openweathermap.org/data/2.5/weather?units=Imperial&APPID=\" + weather_api_key + \"&q=\" + city\n",
    "    response = requests.get(url).json()\n",
    "    try:\n",
    "        city.append(cities[row])\n",
    "        temp.append(response['main']['temp_max'])\n",
    "        humidity.append(response['main']['humidity'])\n",
    "        cloudy.append(response['clouds']['all'])\n",
    "        wind_speed.append(response['wind']['speed'])\n",
    "        date.append(response['dt'])\n",
    "        long.append(response['coord']['lon'])\n",
    "        lat.append(response['coord']['lat'])\n",
    "\n",
    "    except:\n",
    "        print('skipped this city')\n",
    "        pass \n",
    "    "
   ]
  },
  {
   "cell_type": "code",
   "execution_count": null,
   "metadata": {},
   "outputs": [],
   "source": []
  },
  {
   "cell_type": "code",
   "execution_count": null,
   "metadata": {},
   "outputs": [],
   "source": []
  },
  {
   "cell_type": "code",
   "execution_count": null,
   "metadata": {},
   "outputs": [],
   "source": []
  },
  {
   "cell_type": "code",
   "execution_count": null,
   "metadata": {},
   "outputs": [],
   "source": []
  },
  {
   "cell_type": "code",
   "execution_count": 11,
   "metadata": {},
   "outputs": [],
   "source": [
    "#time.strftime(\"%a, %d %b %Y %H:%M:%S +0000\", time.localtime())"
   ]
  },
  {
   "cell_type": "code",
   "execution_count": null,
   "metadata": {},
   "outputs": [],
   "source": []
  },
  {
   "cell_type": "markdown",
   "metadata": {},
   "source": [
    "### Convert Raw Data to DataFrame\n",
    "* Export the city data into a .csv.\n",
    "* Display the DataFrame"
   ]
  },
  {
   "cell_type": "code",
   "execution_count": 12,
   "metadata": {},
   "outputs": [],
   "source": [
    "weather={ 'Lat':lat,\n",
    "         'Lng':long,\n",
    "         'Max Temp':temp, \n",
    "         'Humidity': humidity, \n",
    "         'Cloudiness':cloudy, \n",
    "         'Wind Speed': wind_speed,\n",
    "        'Date': date}\n",
    "\n"
   ]
  },
  {
   "cell_type": "code",
   "execution_count": 13,
   "metadata": {},
   "outputs": [
    {
     "data": {
      "text/html": [
       "<div>\n",
       "<style scoped>\n",
       "    .dataframe tbody tr th:only-of-type {\n",
       "        vertical-align: middle;\n",
       "    }\n",
       "\n",
       "    .dataframe tbody tr th {\n",
       "        vertical-align: top;\n",
       "    }\n",
       "\n",
       "    .dataframe thead th {\n",
       "        text-align: right;\n",
       "    }\n",
       "</style>\n",
       "<table border=\"1\" class=\"dataframe\">\n",
       "  <thead>\n",
       "    <tr style=\"text-align: right;\">\n",
       "      <th></th>\n",
       "      <th>Lat</th>\n",
       "      <th>Lng</th>\n",
       "      <th>Max Temp</th>\n",
       "      <th>Humidity</th>\n",
       "      <th>Cloudiness</th>\n",
       "      <th>Wind Speed</th>\n",
       "      <th>Date</th>\n",
       "    </tr>\n",
       "  </thead>\n",
       "  <tbody>\n",
       "    <tr>\n",
       "      <th>0</th>\n",
       "      <td>71.69</td>\n",
       "      <td>128.87</td>\n",
       "      <td>5.43</td>\n",
       "      <td>91</td>\n",
       "      <td>100</td>\n",
       "      <td>13.67</td>\n",
       "      <td>1603722958</td>\n",
       "    </tr>\n",
       "    <tr>\n",
       "      <th>1</th>\n",
       "      <td>-33.65</td>\n",
       "      <td>115.33</td>\n",
       "      <td>59.00</td>\n",
       "      <td>69</td>\n",
       "      <td>0</td>\n",
       "      <td>3.49</td>\n",
       "      <td>1603722959</td>\n",
       "    </tr>\n",
       "    <tr>\n",
       "      <th>2</th>\n",
       "      <td>42.16</td>\n",
       "      <td>-72.33</td>\n",
       "      <td>48.00</td>\n",
       "      <td>93</td>\n",
       "      <td>90</td>\n",
       "      <td>5.82</td>\n",
       "      <td>1603722960</td>\n",
       "    </tr>\n",
       "    <tr>\n",
       "      <th>3</th>\n",
       "      <td>-16.70</td>\n",
       "      <td>-151.02</td>\n",
       "      <td>79.90</td>\n",
       "      <td>76</td>\n",
       "      <td>100</td>\n",
       "      <td>8.86</td>\n",
       "      <td>1603722961</td>\n",
       "    </tr>\n",
       "    <tr>\n",
       "      <th>4</th>\n",
       "      <td>72.79</td>\n",
       "      <td>-56.15</td>\n",
       "      <td>16.20</td>\n",
       "      <td>80</td>\n",
       "      <td>75</td>\n",
       "      <td>4.97</td>\n",
       "      <td>1603722794</td>\n",
       "    </tr>\n",
       "    <tr>\n",
       "      <th>...</th>\n",
       "      <td>...</td>\n",
       "      <td>...</td>\n",
       "      <td>...</td>\n",
       "      <td>...</td>\n",
       "      <td>...</td>\n",
       "      <td>...</td>\n",
       "      <td>...</td>\n",
       "    </tr>\n",
       "    <tr>\n",
       "      <th>63</th>\n",
       "      <td>35.13</td>\n",
       "      <td>140.30</td>\n",
       "      <td>62.60</td>\n",
       "      <td>72</td>\n",
       "      <td>0</td>\n",
       "      <td>10.29</td>\n",
       "      <td>1603723037</td>\n",
       "    </tr>\n",
       "    <tr>\n",
       "      <th>64</th>\n",
       "      <td>58.67</td>\n",
       "      <td>66.57</td>\n",
       "      <td>35.13</td>\n",
       "      <td>97</td>\n",
       "      <td>100</td>\n",
       "      <td>11.83</td>\n",
       "      <td>1603723038</td>\n",
       "    </tr>\n",
       "    <tr>\n",
       "      <th>65</th>\n",
       "      <td>13.07</td>\n",
       "      <td>-59.53</td>\n",
       "      <td>87.80</td>\n",
       "      <td>70</td>\n",
       "      <td>40</td>\n",
       "      <td>12.75</td>\n",
       "      <td>1603723039</td>\n",
       "    </tr>\n",
       "    <tr>\n",
       "      <th>66</th>\n",
       "      <td>70.63</td>\n",
       "      <td>147.92</td>\n",
       "      <td>8.13</td>\n",
       "      <td>96</td>\n",
       "      <td>100</td>\n",
       "      <td>13.24</td>\n",
       "      <td>1603723041</td>\n",
       "    </tr>\n",
       "    <tr>\n",
       "      <th>67</th>\n",
       "      <td>71.92</td>\n",
       "      <td>114.08</td>\n",
       "      <td>1.02</td>\n",
       "      <td>92</td>\n",
       "      <td>88</td>\n",
       "      <td>6.69</td>\n",
       "      <td>1603723042</td>\n",
       "    </tr>\n",
       "  </tbody>\n",
       "</table>\n",
       "<p>68 rows × 7 columns</p>\n",
       "</div>"
      ],
      "text/plain": [
       "      Lat     Lng  Max Temp  Humidity  Cloudiness  Wind Speed        Date\n",
       "0   71.69  128.87      5.43        91         100       13.67  1603722958\n",
       "1  -33.65  115.33     59.00        69           0        3.49  1603722959\n",
       "2   42.16  -72.33     48.00        93          90        5.82  1603722960\n",
       "3  -16.70 -151.02     79.90        76         100        8.86  1603722961\n",
       "4   72.79  -56.15     16.20        80          75        4.97  1603722794\n",
       "..    ...     ...       ...       ...         ...         ...         ...\n",
       "63  35.13  140.30     62.60        72           0       10.29  1603723037\n",
       "64  58.67   66.57     35.13        97         100       11.83  1603723038\n",
       "65  13.07  -59.53     87.80        70          40       12.75  1603723039\n",
       "66  70.63  147.92      8.13        96         100       13.24  1603723041\n",
       "67  71.92  114.08      1.02        92          88        6.69  1603723042\n",
       "\n",
       "[68 rows x 7 columns]"
      ]
     },
     "execution_count": 13,
     "metadata": {},
     "output_type": "execute_result"
    }
   ],
   "source": [
    "weather_df=pd.DataFrame(weather)\n",
    "weather_df"
   ]
  },
  {
   "cell_type": "markdown",
   "metadata": {},
   "source": [
    "## Inspect the data and remove the cities where the humidity > 100%.\n",
    "----\n",
    "Skip this step if there are no cities that have humidity > 100%. "
   ]
  },
  {
   "cell_type": "code",
   "execution_count": 14,
   "metadata": {},
   "outputs": [
    {
     "data": {
      "text/plain": [
       "Lat           float64\n",
       "Lng           float64\n",
       "Max Temp      float64\n",
       "Humidity        int64\n",
       "Cloudiness      int64\n",
       "Wind Speed    float64\n",
       "Date            int64\n",
       "dtype: object"
      ]
     },
     "execution_count": 14,
     "metadata": {},
     "output_type": "execute_result"
    }
   ],
   "source": [
    "weather_df.dtypes"
   ]
  },
  {
   "cell_type": "code",
   "execution_count": 19,
   "metadata": {},
   "outputs": [],
   "source": [
    "weather_clean=weather_df.loc[weather_df['Humidity']>100]\n",
    "indicies=weather_df.loc[weather_df['Humidity']>100].index"
   ]
  },
  {
   "cell_type": "code",
   "execution_count": 20,
   "metadata": {},
   "outputs": [
    {
     "data": {
      "text/plain": [
       "Int64Index([], dtype='int64')"
      ]
     },
     "execution_count": 20,
     "metadata": {},
     "output_type": "execute_result"
    }
   ],
   "source": [
    "weather_clean"
   ]
  },
  {
   "cell_type": "code",
   "execution_count": 34,
   "metadata": {},
   "outputs": [
    {
     "data": {
      "text/html": [
       "<div>\n",
       "<style scoped>\n",
       "    .dataframe tbody tr th:only-of-type {\n",
       "        vertical-align: middle;\n",
       "    }\n",
       "\n",
       "    .dataframe tbody tr th {\n",
       "        vertical-align: top;\n",
       "    }\n",
       "\n",
       "    .dataframe thead th {\n",
       "        text-align: right;\n",
       "    }\n",
       "</style>\n",
       "<table border=\"1\" class=\"dataframe\">\n",
       "  <thead>\n",
       "    <tr style=\"text-align: right;\">\n",
       "      <th></th>\n",
       "      <th>Lat</th>\n",
       "      <th>Lng</th>\n",
       "      <th>Max Temp</th>\n",
       "      <th>Humidity</th>\n",
       "      <th>Cloudiness</th>\n",
       "      <th>Wind Speed</th>\n",
       "      <th>Date</th>\n",
       "    </tr>\n",
       "  </thead>\n",
       "  <tbody>\n",
       "    <tr>\n",
       "      <th>0</th>\n",
       "      <td>-46.19</td>\n",
       "      <td>168.86</td>\n",
       "      <td>48.00</td>\n",
       "      <td>73</td>\n",
       "      <td>92</td>\n",
       "      <td>1.99</td>\n",
       "      <td>1603290297</td>\n",
       "    </tr>\n",
       "    <tr>\n",
       "      <th>1</th>\n",
       "      <td>49.78</td>\n",
       "      <td>-74.85</td>\n",
       "      <td>32.00</td>\n",
       "      <td>99</td>\n",
       "      <td>90</td>\n",
       "      <td>14.99</td>\n",
       "      <td>1603290439</td>\n",
       "    </tr>\n",
       "    <tr>\n",
       "      <th>2</th>\n",
       "      <td>-33.65</td>\n",
       "      <td>115.33</td>\n",
       "      <td>57.00</td>\n",
       "      <td>61</td>\n",
       "      <td>1</td>\n",
       "      <td>12.77</td>\n",
       "      <td>1603290046</td>\n",
       "    </tr>\n",
       "    <tr>\n",
       "      <th>3</th>\n",
       "      <td>30.38</td>\n",
       "      <td>67.73</td>\n",
       "      <td>48.70</td>\n",
       "      <td>33</td>\n",
       "      <td>0</td>\n",
       "      <td>4.59</td>\n",
       "      <td>1603290439</td>\n",
       "    </tr>\n",
       "    <tr>\n",
       "      <th>4</th>\n",
       "      <td>71.97</td>\n",
       "      <td>102.50</td>\n",
       "      <td>1.00</td>\n",
       "      <td>94</td>\n",
       "      <td>80</td>\n",
       "      <td>2.91</td>\n",
       "      <td>1603290093</td>\n",
       "    </tr>\n",
       "    <tr>\n",
       "      <th>...</th>\n",
       "      <td>...</td>\n",
       "      <td>...</td>\n",
       "      <td>...</td>\n",
       "      <td>...</td>\n",
       "      <td>...</td>\n",
       "      <td>...</td>\n",
       "      <td>...</td>\n",
       "    </tr>\n",
       "    <tr>\n",
       "      <th>553</th>\n",
       "      <td>38.21</td>\n",
       "      <td>37.20</td>\n",
       "      <td>71.35</td>\n",
       "      <td>29</td>\n",
       "      <td>20</td>\n",
       "      <td>5.88</td>\n",
       "      <td>1603290513</td>\n",
       "    </tr>\n",
       "    <tr>\n",
       "      <th>554</th>\n",
       "      <td>-29.14</td>\n",
       "      <td>-59.26</td>\n",
       "      <td>73.51</td>\n",
       "      <td>68</td>\n",
       "      <td>92</td>\n",
       "      <td>10.63</td>\n",
       "      <td>1603290513</td>\n",
       "    </tr>\n",
       "    <tr>\n",
       "      <th>555</th>\n",
       "      <td>37.93</td>\n",
       "      <td>102.64</td>\n",
       "      <td>48.51</td>\n",
       "      <td>41</td>\n",
       "      <td>0</td>\n",
       "      <td>2.46</td>\n",
       "      <td>1603290513</td>\n",
       "    </tr>\n",
       "    <tr>\n",
       "      <th>556</th>\n",
       "      <td>55.96</td>\n",
       "      <td>92.55</td>\n",
       "      <td>46.40</td>\n",
       "      <td>61</td>\n",
       "      <td>100</td>\n",
       "      <td>6.71</td>\n",
       "      <td>1603290514</td>\n",
       "    </tr>\n",
       "    <tr>\n",
       "      <th>557</th>\n",
       "      <td>45.25</td>\n",
       "      <td>11.13</td>\n",
       "      <td>66.00</td>\n",
       "      <td>67</td>\n",
       "      <td>64</td>\n",
       "      <td>3.36</td>\n",
       "      <td>1603290514</td>\n",
       "    </tr>\n",
       "  </tbody>\n",
       "</table>\n",
       "<p>558 rows × 7 columns</p>\n",
       "</div>"
      ],
      "text/plain": [
       "       Lat     Lng  Max Temp  Humidity  Cloudiness  Wind Speed        Date\n",
       "0   -46.19  168.86     48.00        73          92        1.99  1603290297\n",
       "1    49.78  -74.85     32.00        99          90       14.99  1603290439\n",
       "2   -33.65  115.33     57.00        61           1       12.77  1603290046\n",
       "3    30.38   67.73     48.70        33           0        4.59  1603290439\n",
       "4    71.97  102.50      1.00        94          80        2.91  1603290093\n",
       "..     ...     ...       ...       ...         ...         ...         ...\n",
       "553  38.21   37.20     71.35        29          20        5.88  1603290513\n",
       "554 -29.14  -59.26     73.51        68          92       10.63  1603290513\n",
       "555  37.93  102.64     48.51        41           0        2.46  1603290513\n",
       "556  55.96   92.55     46.40        61         100        6.71  1603290514\n",
       "557  45.25   11.13     66.00        67          64        3.36  1603290514\n",
       "\n",
       "[558 rows x 7 columns]"
      ]
     },
     "execution_count": 34,
     "metadata": {},
     "output_type": "execute_result"
    }
   ],
   "source": [
    "#  Get the indices of cities that have humidity over 100%.\n",
    "weather_df"
   ]
  },
  {
   "cell_type": "code",
   "execution_count": 19,
   "metadata": {
    "scrolled": true
   },
   "outputs": [
    {
     "data": {
      "text/html": [
       "<div>\n",
       "<style scoped>\n",
       "    .dataframe tbody tr th:only-of-type {\n",
       "        vertical-align: middle;\n",
       "    }\n",
       "\n",
       "    .dataframe tbody tr th {\n",
       "        vertical-align: top;\n",
       "    }\n",
       "\n",
       "    .dataframe thead th {\n",
       "        text-align: right;\n",
       "    }\n",
       "</style>\n",
       "<table border=\"1\" class=\"dataframe\">\n",
       "  <thead>\n",
       "    <tr style=\"text-align: right;\">\n",
       "      <th></th>\n",
       "      <th>City</th>\n",
       "      <th>Lat</th>\n",
       "      <th>Lng</th>\n",
       "      <th>Max Temp</th>\n",
       "      <th>Humidity</th>\n",
       "      <th>Cloudiness</th>\n",
       "      <th>Wind Speed</th>\n",
       "      <th>Country</th>\n",
       "      <th>Date</th>\n",
       "    </tr>\n",
       "  </thead>\n",
       "  <tbody>\n",
       "    <tr>\n",
       "      <td>0</td>\n",
       "      <td>butaritari</td>\n",
       "      <td>3.07</td>\n",
       "      <td>172.79</td>\n",
       "      <td>83.32</td>\n",
       "      <td>74</td>\n",
       "      <td>84</td>\n",
       "      <td>10.42</td>\n",
       "      <td>KI</td>\n",
       "      <td>1593605283</td>\n",
       "    </tr>\n",
       "    <tr>\n",
       "      <td>1</td>\n",
       "      <td>yerbogachen</td>\n",
       "      <td>61.28</td>\n",
       "      <td>108.01</td>\n",
       "      <td>79.52</td>\n",
       "      <td>58</td>\n",
       "      <td>20</td>\n",
       "      <td>7.70</td>\n",
       "      <td>RU</td>\n",
       "      <td>1593605121</td>\n",
       "    </tr>\n",
       "    <tr>\n",
       "      <td>2</td>\n",
       "      <td>cape town</td>\n",
       "      <td>-33.93</td>\n",
       "      <td>18.42</td>\n",
       "      <td>73.00</td>\n",
       "      <td>77</td>\n",
       "      <td>27</td>\n",
       "      <td>4.70</td>\n",
       "      <td>ZA</td>\n",
       "      <td>1593605039</td>\n",
       "    </tr>\n",
       "    <tr>\n",
       "      <td>3</td>\n",
       "      <td>touba</td>\n",
       "      <td>8.28</td>\n",
       "      <td>-7.68</td>\n",
       "      <td>79.97</td>\n",
       "      <td>75</td>\n",
       "      <td>82</td>\n",
       "      <td>3.58</td>\n",
       "      <td>CI</td>\n",
       "      <td>1593605284</td>\n",
       "    </tr>\n",
       "    <tr>\n",
       "      <td>4</td>\n",
       "      <td>jamestown</td>\n",
       "      <td>42.10</td>\n",
       "      <td>-79.24</td>\n",
       "      <td>64.00</td>\n",
       "      <td>88</td>\n",
       "      <td>1</td>\n",
       "      <td>6.93</td>\n",
       "      <td>US</td>\n",
       "      <td>1593605284</td>\n",
       "    </tr>\n",
       "  </tbody>\n",
       "</table>\n",
       "</div>"
      ],
      "text/plain": [
       "          City    Lat     Lng  Max Temp  Humidity  Cloudiness  Wind Speed  \\\n",
       "0   butaritari   3.07  172.79     83.32        74          84       10.42   \n",
       "1  yerbogachen  61.28  108.01     79.52        58          20        7.70   \n",
       "2    cape town -33.93   18.42     73.00        77          27        4.70   \n",
       "3        touba   8.28   -7.68     79.97        75          82        3.58   \n",
       "4    jamestown  42.10  -79.24     64.00        88           1        6.93   \n",
       "\n",
       "  Country        Date  \n",
       "0      KI  1593605283  \n",
       "1      RU  1593605121  \n",
       "2      ZA  1593605039  \n",
       "3      CI  1593605284  \n",
       "4      US  1593605284  "
      ]
     },
     "execution_count": 19,
     "metadata": {},
     "output_type": "execute_result"
    }
   ],
   "source": [
    "# Make a new DataFrame equal to the city data to drop all humidity outliers by index.\n",
    "# Passing \"inplace=False\" will make a copy of the city_data DataFrame, which we call \"clean_city_data\".\n",
    "#clean_city_data=weather_df.drop(indicies, inplace='False' ) function of indicies"
   ]
  },
  {
   "cell_type": "code",
   "execution_count": null,
   "metadata": {},
   "outputs": [],
   "source": [
    "\n"
   ]
  },
  {
   "cell_type": "markdown",
   "metadata": {},
   "source": [
    "## Plotting the Data\n",
    "* Use proper labeling of the plots using plot titles (including date of analysis) and axes labels.\n",
    "* Save the plotted figures as .pngs."
   ]
  },
  {
   "cell_type": "markdown",
   "metadata": {},
   "source": [
    "## Latitude vs. Temperature Plot"
   ]
  },
  {
   "cell_type": "code",
   "execution_count": 40,
   "metadata": {
    "scrolled": true
   },
   "outputs": [
    {
     "data": {
      "image/png": "[encoded data removed]",
      "text/plain": [
       "<Figure size 432x288 with 1 Axes>"
      ]
     },
     "metadata": {
      "needs_background": "light"
     },
     "output_type": "display_data"
    }
   ],
   "source": [
    "from datetime import datetime\n",
    "now = datetime.now() # current date and time\n",
    "date_time = now.strftime(\"%m/%d/%Y\")\n",
    "plt.scatter(weather_df['Lat'],weather_df['Max Temp'], edgecolors='black')\n",
    "plt.grid('True')\n",
    "plt.xlabel('Latitude')\n",
    "plt.ylabel('Temperature')\n",
    "plt.title(f'City Lat vs. Max Temperature on {date_time}')\n",
    "plt.savefig('../output_data/temp_plot.png')\n",
    "\n",
    "#time.strftime(\"%a, %d %b %Y %H:%M:%S +0000\", time.localtime())"
   ]
  },
  {
   "cell_type": "markdown",
   "metadata": {},
   "source": [
    "## Latitude vs. Humidity Plot"
   ]
  },
  {
   "cell_type": "code",
   "execution_count": 41,
   "metadata": {},
   "outputs": [
    {
     "data": {
      "image/png": "[encoded data removed]",
      "text/plain": [
       "<Figure size 432x288 with 1 Axes>"
      ]
     },
     "metadata": {
      "needs_background": "light"
     },
     "output_type": "display_data"
    }
   ],
   "source": [
    "plt.scatter(weather_df['Lat'],weather_df['Humidity'], edgecolors='black')\n",
    "plt.grid('True')\n",
    "plt.xlabel('Latitude')\n",
    "plt.ylabel('Humidity(%)')\n",
    "plt.title(f'City Lat vs. Humidity on {date_time}')\n",
    "plt.savefig('../output_data/humidity_plot.png')"
   ]
  },
  {
   "cell_type": "markdown",
   "metadata": {},
   "source": [
    "## Latitude vs. Cloudiness Plot"
   ]
  },
  {
   "cell_type": "code",
   "execution_count": 42,
   "metadata": {},
   "outputs": [
    {
     "data": {
      "image/png": "[encoded data removed]",
      "text/plain": [
       "<Figure size 432x288 with 1 Axes>"
      ]
     },
     "metadata": {
      "needs_background": "light"
     },
     "output_type": "display_data"
    }
   ],
   "source": [
    "plt.scatter(weather_df['Lat'],weather_df['Cloudiness'], edgecolors='black')\n",
    "plt.grid('True')\n",
    "plt.xlabel('Latitude')\n",
    "plt.ylabel('Cloudiness')\n",
    "plt.title(f'City Lat vs. Cloudiness {date_time}')\n",
    "plt.savefig('../output_data/cloudiness_plot.png')"
   ]
  },
  {
   "cell_type": "markdown",
   "metadata": {},
   "source": [
    "## Latitude vs. Wind Speed Plot"
   ]
  },
  {
   "cell_type": "code",
   "execution_count": 43,
   "metadata": {},
   "outputs": [
    {
     "data": {
      "image/png": "[encoded data removed]",
      "text/plain": [
       "<Figure size 432x288 with 1 Axes>"
      ]
     },
     "metadata": {
      "needs_background": "light"
     },
     "output_type": "display_data"
    }
   ],
   "source": [
    "plt.scatter(weather_df['Lat'],weather_df['Wind Speed'], edgecolors='black')\n",
    "plt.grid('True')\n",
    "plt.xlabel('Latitude')\n",
    "plt.ylabel('Wind Speed')\n",
    "plt.title(f'City Lat vs. Wind Speed on {date_time}')\n",
    "plt.savefig('../output_data/wind_speed_plot.png')"
   ]
  },
  {
   "cell_type": "markdown",
   "metadata": {},
   "source": [
    "## Linear Regression"
   ]
  },
  {
   "cell_type": "code",
   "execution_count": 55,
   "metadata": {},
   "outputs": [
    {
     "data": {
      "text/html": [
       "<div>\n",
       "<style scoped>\n",
       "    .dataframe tbody tr th:only-of-type {\n",
       "        vertical-align: middle;\n",
       "    }\n",
       "\n",
       "    .dataframe tbody tr th {\n",
       "        vertical-align: top;\n",
       "    }\n",
       "\n",
       "    .dataframe thead th {\n",
       "        text-align: right;\n",
       "    }\n",
       "</style>\n",
       "<table border=\"1\" class=\"dataframe\">\n",
       "  <thead>\n",
       "    <tr style=\"text-align: right;\">\n",
       "      <th></th>\n",
       "      <th>Lat</th>\n",
       "      <th>Lng</th>\n",
       "      <th>Max Temp</th>\n",
       "      <th>Humidity</th>\n",
       "      <th>Cloudiness</th>\n",
       "      <th>Wind Speed</th>\n",
       "      <th>Date</th>\n",
       "    </tr>\n",
       "  </thead>\n",
       "  <tbody>\n",
       "    <tr>\n",
       "      <th>0</th>\n",
       "      <td>71.69</td>\n",
       "      <td>128.87</td>\n",
       "      <td>5.43</td>\n",
       "      <td>91.0</td>\n",
       "      <td>100.0</td>\n",
       "      <td>13.67</td>\n",
       "      <td>1.603723e+09</td>\n",
       "    </tr>\n",
       "    <tr>\n",
       "      <th>2</th>\n",
       "      <td>42.16</td>\n",
       "      <td>-72.33</td>\n",
       "      <td>48.00</td>\n",
       "      <td>93.0</td>\n",
       "      <td>90.0</td>\n",
       "      <td>5.82</td>\n",
       "      <td>1.603723e+09</td>\n",
       "    </tr>\n",
       "    <tr>\n",
       "      <th>4</th>\n",
       "      <td>72.79</td>\n",
       "      <td>-56.15</td>\n",
       "      <td>16.20</td>\n",
       "      <td>80.0</td>\n",
       "      <td>75.0</td>\n",
       "      <td>4.97</td>\n",
       "      <td>1.603723e+09</td>\n",
       "    </tr>\n",
       "    <tr>\n",
       "      <th>8</th>\n",
       "      <td>62.46</td>\n",
       "      <td>-114.35</td>\n",
       "      <td>26.60</td>\n",
       "      <td>68.0</td>\n",
       "      <td>75.0</td>\n",
       "      <td>12.75</td>\n",
       "      <td>1.603723e+09</td>\n",
       "    </tr>\n",
       "    <tr>\n",
       "      <th>10</th>\n",
       "      <td>48.83</td>\n",
       "      <td>-72.53</td>\n",
       "      <td>32.00</td>\n",
       "      <td>92.0</td>\n",
       "      <td>90.0</td>\n",
       "      <td>5.82</td>\n",
       "      <td>1.603723e+09</td>\n",
       "    </tr>\n",
       "    <tr>\n",
       "      <th>14</th>\n",
       "      <td>42.60</td>\n",
       "      <td>-73.97</td>\n",
       "      <td>45.00</td>\n",
       "      <td>88.0</td>\n",
       "      <td>100.0</td>\n",
       "      <td>8.46</td>\n",
       "      <td>1.603723e+09</td>\n",
       "    </tr>\n",
       "    <tr>\n",
       "      <th>15</th>\n",
       "      <td>42.06</td>\n",
       "      <td>59.38</td>\n",
       "      <td>66.20</td>\n",
       "      <td>29.0</td>\n",
       "      <td>0.0</td>\n",
       "      <td>6.93</td>\n",
       "      <td>1.603723e+09</td>\n",
       "    </tr>\n",
       "    <tr>\n",
       "      <th>16</th>\n",
       "      <td>64.25</td>\n",
       "      <td>-15.21</td>\n",
       "      <td>42.80</td>\n",
       "      <td>70.0</td>\n",
       "      <td>20.0</td>\n",
       "      <td>13.87</td>\n",
       "      <td>1.603723e+09</td>\n",
       "    </tr>\n",
       "    <tr>\n",
       "      <th>17</th>\n",
       "      <td>48.04</td>\n",
       "      <td>40.05</td>\n",
       "      <td>57.20</td>\n",
       "      <td>54.0</td>\n",
       "      <td>0.0</td>\n",
       "      <td>15.66</td>\n",
       "      <td>1.603723e+09</td>\n",
       "    </tr>\n",
       "    <tr>\n",
       "      <th>18</th>\n",
       "      <td>66.77</td>\n",
       "      <td>123.37</td>\n",
       "      <td>-1.62</td>\n",
       "      <td>91.0</td>\n",
       "      <td>100.0</td>\n",
       "      <td>11.50</td>\n",
       "      <td>1.603723e+09</td>\n",
       "    </tr>\n",
       "    <tr>\n",
       "      <th>19</th>\n",
       "      <td>17.02</td>\n",
       "      <td>54.09</td>\n",
       "      <td>82.40</td>\n",
       "      <td>58.0</td>\n",
       "      <td>0.0</td>\n",
       "      <td>5.82</td>\n",
       "      <td>1.603723e+09</td>\n",
       "    </tr>\n",
       "    <tr>\n",
       "      <th>21</th>\n",
       "      <td>69.38</td>\n",
       "      <td>178.42</td>\n",
       "      <td>25.09</td>\n",
       "      <td>97.0</td>\n",
       "      <td>100.0</td>\n",
       "      <td>6.02</td>\n",
       "      <td>1.603723e+09</td>\n",
       "    </tr>\n",
       "    <tr>\n",
       "      <th>23</th>\n",
       "      <td>40.50</td>\n",
       "      <td>141.50</td>\n",
       "      <td>46.40</td>\n",
       "      <td>81.0</td>\n",
       "      <td>40.0</td>\n",
       "      <td>4.70</td>\n",
       "      <td>1.603723e+09</td>\n",
       "    </tr>\n",
       "    <tr>\n",
       "      <th>25</th>\n",
       "      <td>34.64</td>\n",
       "      <td>-120.46</td>\n",
       "      <td>50.00</td>\n",
       "      <td>93.0</td>\n",
       "      <td>1.0</td>\n",
       "      <td>4.74</td>\n",
       "      <td>1.603723e+09</td>\n",
       "    </tr>\n",
       "    <tr>\n",
       "      <th>27</th>\n",
       "      <td>19.73</td>\n",
       "      <td>-155.09</td>\n",
       "      <td>73.40</td>\n",
       "      <td>73.0</td>\n",
       "      <td>40.0</td>\n",
       "      <td>5.82</td>\n",
       "      <td>1.603723e+09</td>\n",
       "    </tr>\n",
       "    <tr>\n",
       "      <th>28</th>\n",
       "      <td>65.61</td>\n",
       "      <td>-37.64</td>\n",
       "      <td>33.80</td>\n",
       "      <td>50.0</td>\n",
       "      <td>100.0</td>\n",
       "      <td>20.80</td>\n",
       "      <td>1.603723e+09</td>\n",
       "    </tr>\n",
       "    <tr>\n",
       "      <th>29</th>\n",
       "      <td>30.30</td>\n",
       "      <td>109.48</td>\n",
       "      <td>60.37</td>\n",
       "      <td>65.0</td>\n",
       "      <td>100.0</td>\n",
       "      <td>1.07</td>\n",
       "      <td>1.603723e+09</td>\n",
       "    </tr>\n",
       "    <tr>\n",
       "      <th>31</th>\n",
       "      <td>67.47</td>\n",
       "      <td>78.70</td>\n",
       "      <td>0.52</td>\n",
       "      <td>94.0</td>\n",
       "      <td>0.0</td>\n",
       "      <td>7.63</td>\n",
       "      <td>1.603723e+09</td>\n",
       "    </tr>\n",
       "    <tr>\n",
       "      <th>32</th>\n",
       "      <td>52.26</td>\n",
       "      <td>10.36</td>\n",
       "      <td>52.00</td>\n",
       "      <td>87.0</td>\n",
       "      <td>0.0</td>\n",
       "      <td>2.24</td>\n",
       "      <td>1.603723e+09</td>\n",
       "    </tr>\n",
       "    <tr>\n",
       "      <th>34</th>\n",
       "      <td>42.10</td>\n",
       "      <td>-79.24</td>\n",
       "      <td>46.99</td>\n",
       "      <td>100.0</td>\n",
       "      <td>90.0</td>\n",
       "      <td>6.49</td>\n",
       "      <td>1.603723e+09</td>\n",
       "    </tr>\n",
       "    <tr>\n",
       "      <th>35</th>\n",
       "      <td>62.23</td>\n",
       "      <td>-6.59</td>\n",
       "      <td>44.60</td>\n",
       "      <td>75.0</td>\n",
       "      <td>40.0</td>\n",
       "      <td>9.17</td>\n",
       "      <td>1.603723e+09</td>\n",
       "    </tr>\n",
       "    <tr>\n",
       "      <th>37</th>\n",
       "      <td>11.14</td>\n",
       "      <td>123.72</td>\n",
       "      <td>83.03</td>\n",
       "      <td>75.0</td>\n",
       "      <td>100.0</td>\n",
       "      <td>13.11</td>\n",
       "      <td>1.603723e+09</td>\n",
       "    </tr>\n",
       "    <tr>\n",
       "      <th>38</th>\n",
       "      <td>58.13</td>\n",
       "      <td>68.59</td>\n",
       "      <td>38.05</td>\n",
       "      <td>95.0</td>\n",
       "      <td>100.0</td>\n",
       "      <td>12.71</td>\n",
       "      <td>1.603723e+09</td>\n",
       "    </tr>\n",
       "    <tr>\n",
       "      <th>40</th>\n",
       "      <td>71.29</td>\n",
       "      <td>-156.79</td>\n",
       "      <td>15.80</td>\n",
       "      <td>85.0</td>\n",
       "      <td>1.0</td>\n",
       "      <td>5.82</td>\n",
       "      <td>1.603723e+09</td>\n",
       "    </tr>\n",
       "    <tr>\n",
       "      <th>41</th>\n",
       "      <td>68.75</td>\n",
       "      <td>161.30</td>\n",
       "      <td>6.64</td>\n",
       "      <td>94.0</td>\n",
       "      <td>13.0</td>\n",
       "      <td>4.79</td>\n",
       "      <td>1.603723e+09</td>\n",
       "    </tr>\n",
       "    <tr>\n",
       "      <th>45</th>\n",
       "      <td>32.68</td>\n",
       "      <td>109.02</td>\n",
       "      <td>63.39</td>\n",
       "      <td>67.0</td>\n",
       "      <td>100.0</td>\n",
       "      <td>0.78</td>\n",
       "      <td>1.603723e+09</td>\n",
       "    </tr>\n",
       "    <tr>\n",
       "      <th>46</th>\n",
       "      <td>4.14</td>\n",
       "      <td>96.13</td>\n",
       "      <td>78.76</td>\n",
       "      <td>81.0</td>\n",
       "      <td>100.0</td>\n",
       "      <td>3.36</td>\n",
       "      <td>1.603723e+09</td>\n",
       "    </tr>\n",
       "    <tr>\n",
       "      <th>47</th>\n",
       "      <td>48.40</td>\n",
       "      <td>13.32</td>\n",
       "      <td>50.00</td>\n",
       "      <td>89.0</td>\n",
       "      <td>100.0</td>\n",
       "      <td>5.99</td>\n",
       "      <td>1.603723e+09</td>\n",
       "    </tr>\n",
       "    <tr>\n",
       "      <th>48</th>\n",
       "      <td>14.90</td>\n",
       "      <td>-24.50</td>\n",
       "      <td>84.22</td>\n",
       "      <td>63.0</td>\n",
       "      <td>100.0</td>\n",
       "      <td>11.03</td>\n",
       "      <td>1.603723e+09</td>\n",
       "    </tr>\n",
       "    <tr>\n",
       "      <th>51</th>\n",
       "      <td>1.55</td>\n",
       "      <td>110.33</td>\n",
       "      <td>75.20</td>\n",
       "      <td>94.0</td>\n",
       "      <td>40.0</td>\n",
       "      <td>3.36</td>\n",
       "      <td>1.603723e+09</td>\n",
       "    </tr>\n",
       "    <tr>\n",
       "      <th>52</th>\n",
       "      <td>20.20</td>\n",
       "      <td>1.01</td>\n",
       "      <td>96.08</td>\n",
       "      <td>9.0</td>\n",
       "      <td>0.0</td>\n",
       "      <td>10.65</td>\n",
       "      <td>1.603723e+09</td>\n",
       "    </tr>\n",
       "    <tr>\n",
       "      <th>53</th>\n",
       "      <td>5.56</td>\n",
       "      <td>95.32</td>\n",
       "      <td>80.60</td>\n",
       "      <td>78.0</td>\n",
       "      <td>100.0</td>\n",
       "      <td>9.80</td>\n",
       "      <td>1.603723e+09</td>\n",
       "    </tr>\n",
       "    <tr>\n",
       "      <th>54</th>\n",
       "      <td>20.50</td>\n",
       "      <td>-10.07</td>\n",
       "      <td>98.08</td>\n",
       "      <td>9.0</td>\n",
       "      <td>0.0</td>\n",
       "      <td>12.66</td>\n",
       "      <td>1.603723e+09</td>\n",
       "    </tr>\n",
       "    <tr>\n",
       "      <th>55</th>\n",
       "      <td>65.28</td>\n",
       "      <td>-126.83</td>\n",
       "      <td>23.00</td>\n",
       "      <td>85.0</td>\n",
       "      <td>90.0</td>\n",
       "      <td>9.17</td>\n",
       "      <td>1.603723e+09</td>\n",
       "    </tr>\n",
       "    <tr>\n",
       "      <th>56</th>\n",
       "      <td>29.60</td>\n",
       "      <td>-90.72</td>\n",
       "      <td>71.01</td>\n",
       "      <td>88.0</td>\n",
       "      <td>1.0</td>\n",
       "      <td>4.70</td>\n",
       "      <td>1.603723e+09</td>\n",
       "    </tr>\n",
       "    <tr>\n",
       "      <th>57</th>\n",
       "      <td>39.93</td>\n",
       "      <td>119.59</td>\n",
       "      <td>57.81</td>\n",
       "      <td>35.0</td>\n",
       "      <td>1.0</td>\n",
       "      <td>8.59</td>\n",
       "      <td>1.603723e+09</td>\n",
       "    </tr>\n",
       "    <tr>\n",
       "      <th>58</th>\n",
       "      <td>5.78</td>\n",
       "      <td>36.57</td>\n",
       "      <td>68.72</td>\n",
       "      <td>86.0</td>\n",
       "      <td>58.0</td>\n",
       "      <td>2.19</td>\n",
       "      <td>1.603723e+09</td>\n",
       "    </tr>\n",
       "    <tr>\n",
       "      <th>59</th>\n",
       "      <td>30.80</td>\n",
       "      <td>75.17</td>\n",
       "      <td>72.39</td>\n",
       "      <td>21.0</td>\n",
       "      <td>0.0</td>\n",
       "      <td>5.59</td>\n",
       "      <td>1.603723e+09</td>\n",
       "    </tr>\n",
       "    <tr>\n",
       "      <th>60</th>\n",
       "      <td>57.05</td>\n",
       "      <td>-135.33</td>\n",
       "      <td>51.80</td>\n",
       "      <td>100.0</td>\n",
       "      <td>90.0</td>\n",
       "      <td>10.29</td>\n",
       "      <td>1.603723e+09</td>\n",
       "    </tr>\n",
       "    <tr>\n",
       "      <th>62</th>\n",
       "      <td>41.05</td>\n",
       "      <td>-76.23</td>\n",
       "      <td>48.00</td>\n",
       "      <td>94.0</td>\n",
       "      <td>100.0</td>\n",
       "      <td>4.18</td>\n",
       "      <td>1.603723e+09</td>\n",
       "    </tr>\n",
       "    <tr>\n",
       "      <th>63</th>\n",
       "      <td>35.13</td>\n",
       "      <td>140.30</td>\n",
       "      <td>62.60</td>\n",
       "      <td>72.0</td>\n",
       "      <td>0.0</td>\n",
       "      <td>10.29</td>\n",
       "      <td>1.603723e+09</td>\n",
       "    </tr>\n",
       "    <tr>\n",
       "      <th>64</th>\n",
       "      <td>58.67</td>\n",
       "      <td>66.57</td>\n",
       "      <td>35.13</td>\n",
       "      <td>97.0</td>\n",
       "      <td>100.0</td>\n",
       "      <td>11.83</td>\n",
       "      <td>1.603723e+09</td>\n",
       "    </tr>\n",
       "    <tr>\n",
       "      <th>65</th>\n",
       "      <td>13.07</td>\n",
       "      <td>-59.53</td>\n",
       "      <td>87.80</td>\n",
       "      <td>70.0</td>\n",
       "      <td>40.0</td>\n",
       "      <td>12.75</td>\n",
       "      <td>1.603723e+09</td>\n",
       "    </tr>\n",
       "    <tr>\n",
       "      <th>66</th>\n",
       "      <td>70.63</td>\n",
       "      <td>147.92</td>\n",
       "      <td>8.13</td>\n",
       "      <td>96.0</td>\n",
       "      <td>100.0</td>\n",
       "      <td>13.24</td>\n",
       "      <td>1.603723e+09</td>\n",
       "    </tr>\n",
       "    <tr>\n",
       "      <th>67</th>\n",
       "      <td>71.92</td>\n",
       "      <td>114.08</td>\n",
       "      <td>1.02</td>\n",
       "      <td>92.0</td>\n",
       "      <td>88.0</td>\n",
       "      <td>6.69</td>\n",
       "      <td>1.603723e+09</td>\n",
       "    </tr>\n",
       "  </tbody>\n",
       "</table>\n",
       "</div>"
      ],
      "text/plain": [
       "      Lat     Lng  Max Temp  Humidity  Cloudiness  Wind Speed          Date\n",
       "0   71.69  128.87      5.43      91.0       100.0       13.67  1.603723e+09\n",
       "2   42.16  -72.33     48.00      93.0        90.0        5.82  1.603723e+09\n",
       "4   72.79  -56.15     16.20      80.0        75.0        4.97  1.603723e+09\n",
       "8   62.46 -114.35     26.60      68.0        75.0       12.75  1.603723e+09\n",
       "10  48.83  -72.53     32.00      92.0        90.0        5.82  1.603723e+09\n",
       "14  42.60  -73.97     45.00      88.0       100.0        8.46  1.603723e+09\n",
       "15  42.06   59.38     66.20      29.0         0.0        6.93  1.603723e+09\n",
       "16  64.25  -15.21     42.80      70.0        20.0       13.87  1.603723e+09\n",
       "17  48.04   40.05     57.20      54.0         0.0       15.66  1.603723e+09\n",
       "18  66.77  123.37     -1.62      91.0       100.0       11.50  1.603723e+09\n",
       "19  17.02   54.09     82.40      58.0         0.0        5.82  1.603723e+09\n",
       "21  69.38  178.42     25.09      97.0       100.0        6.02  1.603723e+09\n",
       "23  40.50  141.50     46.40      81.0        40.0        4.70  1.603723e+09\n",
       "25  34.64 -120.46     50.00      93.0         1.0        4.74  1.603723e+09\n",
       "27  19.73 -155.09     73.40      73.0        40.0        5.82  1.603723e+09\n",
       "28  65.61  -37.64     33.80      50.0       100.0       20.80  1.603723e+09\n",
       "29  30.30  109.48     60.37      65.0       100.0        1.07  1.603723e+09\n",
       "31  67.47   78.70      0.52      94.0         0.0        7.63  1.603723e+09\n",
       "32  52.26   10.36     52.00      87.0         0.0        2.24  1.603723e+09\n",
       "34  42.10  -79.24     46.99     100.0        90.0        6.49  1.603723e+09\n",
       "35  62.23   -6.59     44.60      75.0        40.0        9.17  1.603723e+09\n",
       "37  11.14  123.72     83.03      75.0       100.0       13.11  1.603723e+09\n",
       "38  58.13   68.59     38.05      95.0       100.0       12.71  1.603723e+09\n",
       "40  71.29 -156.79     15.80      85.0         1.0        5.82  1.603723e+09\n",
       "41  68.75  161.30      6.64      94.0        13.0        4.79  1.603723e+09\n",
       "45  32.68  109.02     63.39      67.0       100.0        0.78  1.603723e+09\n",
       "46   4.14   96.13     78.76      81.0       100.0        3.36  1.603723e+09\n",
       "47  48.40   13.32     50.00      89.0       100.0        5.99  1.603723e+09\n",
       "48  14.90  -24.50     84.22      63.0       100.0       11.03  1.603723e+09\n",
       "51   1.55  110.33     75.20      94.0        40.0        3.36  1.603723e+09\n",
       "52  20.20    1.01     96.08       9.0         0.0       10.65  1.603723e+09\n",
       "53   5.56   95.32     80.60      78.0       100.0        9.80  1.603723e+09\n",
       "54  20.50  -10.07     98.08       9.0         0.0       12.66  1.603723e+09\n",
       "55  65.28 -126.83     23.00      85.0        90.0        9.17  1.603723e+09\n",
       "56  29.60  -90.72     71.01      88.0         1.0        4.70  1.603723e+09\n",
       "57  39.93  119.59     57.81      35.0         1.0        8.59  1.603723e+09\n",
       "58   5.78   36.57     68.72      86.0        58.0        2.19  1.603723e+09\n",
       "59  30.80   75.17     72.39      21.0         0.0        5.59  1.603723e+09\n",
       "60  57.05 -135.33     51.80     100.0        90.0       10.29  1.603723e+09\n",
       "62  41.05  -76.23     48.00      94.0       100.0        4.18  1.603723e+09\n",
       "63  35.13  140.30     62.60      72.0         0.0       10.29  1.603723e+09\n",
       "64  58.67   66.57     35.13      97.0       100.0       11.83  1.603723e+09\n",
       "65  13.07  -59.53     87.80      70.0        40.0       12.75  1.603723e+09\n",
       "66  70.63  147.92      8.13      96.0       100.0       13.24  1.603723e+09\n",
       "67  71.92  114.08      1.02      92.0        88.0        6.69  1.603723e+09"
      ]
     },
     "execution_count": 55,
     "metadata": {},
     "output_type": "execute_result"
    }
   ],
   "source": [
    "#desert \n",
    "#plt.annotate()\n",
    "northern=weather_df.loc[weather_df['Lat']>0].astype('float')\n",
    "sourhtern=weather_df.loc[weather_df['Lat']<=0]\n",
    "\n",
    "def lr(x,y):\n",
    "    (slope, intercept, rvalue)= linregress(x,y)\n",
    "    regress_values= x * slope + intercept\n",
    "    line_eq= 'y = ' + str(round(slope, 2)) + 'x' +str(round(intercept, 2))\n",
    "    plt.scatter(x,y)\n",
    "    plt.annotate(line_eq, fontsize=15)\n",
    "northern"
   ]
  },
  {
   "cell_type": "markdown",
   "metadata": {},
   "source": [
    "####  Northern Hemisphere - Max Temp vs. Latitude Linear Regression"
   ]
  },
  {
   "cell_type": "code",
   "execution_count": 72,
   "metadata": {},
   "outputs": [
    {
     "data": {
      "text/plain": [
       "<matplotlib.collections.PathCollection at 0x1b6522e1a90>"
      ]
     },
     "execution_count": 72,
     "metadata": {},
     "output_type": "execute_result"
    },
    {
     "data": {
      "image/png": "[encoded data removed]",
      "text/plain": [
       "<Figure size 432x288 with 1 Axes>"
      ]
     },
     "metadata": {
      "needs_background": "light"
     },
     "output_type": "display_data"
    }
   ],
   "source": [
    "(slope, intercept, rvalue, pvalue, stderr) = linregress(northern['Lat'].astype(float), northern['Max Temp'].astype(float))\n",
    "regress_values= northern['Lat'].astype(float) * slope + intercept\n",
    "line_eq= 'y = ' + str(round(slope, 2)) + 'x' +str(round(intercept, 2))\n",
    "plt.scatter(northern['Lat'], northern['Max Temp'])\n",
    "# plt.annotate(line_eq, northern['Lat'].astype(float), northern['Max Temp'].astype(float),fontsize=15)"
   ]
  },
  {
   "cell_type": "markdown",
   "metadata": {},
   "source": [
    "####  Southern Hemisphere - Max Temp vs. Latitude Linear Regression"
   ]
  },
  {
   "cell_type": "code",
   "execution_count": 26,
   "metadata": {},
   "outputs": [
    {
     "name": "stdout",
     "output_type": "stream",
     "text": [
      "The r-value is: 0.6082708688906918\n"
     ]
    },
    {
     "data": {
      "image/png": "[encoded data removed]",
      "text/plain": [
       "<Figure size 432x288 with 1 Axes>"
      ]
     },
     "metadata": {
      "needs_background": "light"
     },
     "output_type": "display_data"
    }
   ],
   "source": []
  },
  {
   "cell_type": "markdown",
   "metadata": {},
   "source": [
    "####  Northern Hemisphere - Humidity (%) vs. Latitude Linear Regression"
   ]
  },
  {
   "cell_type": "code",
   "execution_count": 27,
   "metadata": {},
   "outputs": [
    {
     "name": "stdout",
     "output_type": "stream",
     "text": [
      "The r-value is: 0.000543987878808455\n"
     ]
    },
    {
     "data": {
      "image/png": "[encoded data removed]",
      "text/plain": [
       "<Figure size 432x288 with 1 Axes>"
      ]
     },
     "metadata": {
      "needs_background": "light"
     },
     "output_type": "display_data"
    }
   ],
   "source": []
  },
  {
   "cell_type": "markdown",
   "metadata": {},
   "source": [
    "####  Southern Hemisphere - Humidity (%) vs. Latitude Linear Regression"
   ]
  },
  {
   "cell_type": "code",
   "execution_count": 28,
   "metadata": {},
   "outputs": [
    {
     "name": "stdout",
     "output_type": "stream",
     "text": [
      "The r-value is: 0.014985174297345524\n"
     ]
    },
    {
     "data": {
      "image/png": "[encoded data removed]",
      "text/plain": [
       "<Figure size 432x288 with 1 Axes>"
      ]
     },
     "metadata": {
      "needs_background": "light"
     },
     "output_type": "display_data"
    }
   ],
   "source": []
  },
  {
   "cell_type": "markdown",
   "metadata": {},
   "source": [
    "####  Northern Hemisphere - Cloudiness (%) vs. Latitude Linear Regression"
   ]
  },
  {
   "cell_type": "code",
   "execution_count": 29,
   "metadata": {},
   "outputs": [
    {
     "name": "stdout",
     "output_type": "stream",
     "text": [
      "The r-value is: 0.0020898727664228514\n"
     ]
    },
    {
     "data": {
      "image/png": "[encoded data removed]",
      "text/plain": [
       "<Figure size 432x288 with 1 Axes>"
      ]
     },
     "metadata": {
      "needs_background": "light"
     },
     "output_type": "display_data"
    }
   ],
   "source": []
  },
  {
   "cell_type": "markdown",
   "metadata": {},
   "source": [
    "####  Southern Hemisphere - Cloudiness (%) vs. Latitude Linear Regression"
   ]
  },
  {
   "cell_type": "code",
   "execution_count": 30,
   "metadata": {},
   "outputs": [
    {
     "name": "stdout",
     "output_type": "stream",
     "text": [
      "The r-value is: 0.0035263772085582894\n"
     ]
    },
    {
     "data": {
      "image/png": "[encoded data removed]",
      "text/plain": [
       "<Figure size 432x288 with 1 Axes>"
      ]
     },
     "metadata": {
      "needs_background": "light"
     },
     "output_type": "display_data"
    }
   ],
   "source": []
  },
  {
   "cell_type": "markdown",
   "metadata": {},
   "source": [
    "####  Northern Hemisphere - Wind Speed (mph) vs. Latitude Linear Regression"
   ]
  },
  {
   "cell_type": "code",
   "execution_count": 31,
   "metadata": {},
   "outputs": [
    {
     "name": "stdout",
     "output_type": "stream",
     "text": [
      "The r-value is: 0.04019723576144484\n"
     ]
    },
    {
     "data": {
      "image/png": "[encoded data removed]",
      "text/plain": [
       "<Figure size 432x288 with 1 Axes>"
      ]
     },
     "metadata": {
      "needs_background": "light"
     },
     "output_type": "display_data"
    }
   ],
   "source": []
  },
  {
   "cell_type": "markdown",
   "metadata": {},
   "source": [
    "####  Southern Hemisphere - Wind Speed (mph) vs. Latitude Linear Regression"
   ]
  },
  {
   "cell_type": "code",
   "execution_count": 32,
   "metadata": {},
   "outputs": [
    {
     "name": "stdout",
     "output_type": "stream",
     "text": [
      "The r-value is: 0.017128274759839232\n"
     ]
    },
    {
     "data": {
      "image/png": "[encoded data removed]",
      "text/plain": [
       "<Figure size 432x288 with 1 Axes>"
      ]
     },
     "metadata": {
      "needs_background": "light"
     },
     "output_type": "display_data"
    }
   ],
   "source": []
  },
  {
   "cell_type": "code",
   "execution_count": null,
   "metadata": {},
   "outputs": [],
   "source": []
  }
 ],
 "metadata": {
  "anaconda-cloud": {},
  "kernel_info": {
   "name": "python3"
  },
  "kernelspec": {
   "display_name": "Python 3",
   "language": "python",
   "name": "python3"
  },
  "language_info": {
   "codemirror_mode": {
    "name": "ipython",
    "version": 3
   },
   "file_extension": ".py",
   "mimetype": "text/x-python",
   "name": "python",
   "nbconvert_exporter": "python",
   "pygments_lexer": "ipython3",
   "version": "3.8.3"
  },
  "latex_envs": {
   "LaTeX_envs_menu_present": true,
   "autoclose": false,
   "autocomplete": true,
   "bibliofile": "biblio.bib",
   "cite_by": "apalike",
   "current_citInitial": 1,
   "eqLabelWithNumbers": true,
   "eqNumInitial": 1,
   "hotkeys": {
    "equation": "Ctrl-E",
    "itemize": "Ctrl-I"
   },
   "labels_anchors": false,
   "latex_user_defs": false,
   "report_style_numbering": false,
   "user_envs_cfg": false
  },
  "nteract": {
   "version": "0.12.3"
  }
 },
 "nbformat": 4,
 "nbformat_minor": 2
}
