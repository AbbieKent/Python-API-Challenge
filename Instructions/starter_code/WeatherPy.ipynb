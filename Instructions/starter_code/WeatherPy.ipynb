{
 "cells": [
  {
   "cell_type": "markdown",
   "metadata": {},
   "source": [
    "# WeatherPy\n",
    "----\n",
    "\n",
    "#### Note\n",
    "* Instructions have been included for each segment. You do not have to follow them exactly, but they are included to help you think through the steps."
   ]
  },
  {
   "cell_type": "code",
   "execution_count": 1,
   "metadata": {
    "scrolled": true
   },
   "outputs": [],
   "source": [
    "# Dependencies and Setup\n",
    "import matplotlib.pyplot as plt\n",
    "import pandas as pd\n",
    "import numpy as np\n",
    "import requests\n",
    "import time\n",
    "from scipy.stats import linregress\n",
    "\n",
    "# Import API key\n",
    "from api_keys import weather_api_key\n",
    "# Incorporated citipy to determine city based on latitude and longitude\n",
    "from citipy import citipy\n",
    "\n",
    "# Output File (CSV)\n",
    "output_data_file = \"output_data/cities.csv\"\n",
    "\n",
    "# Range of latitudes and longitudes\n",
    "lat_range = (-90, 90)\n",
    "lng_range = (-180, 180)"
   ]
  },
  {
   "cell_type": "code",
   "execution_count": null,
   "metadata": {},
   "outputs": [],
   "source": []
  },
  {
   "cell_type": "markdown",
   "metadata": {},
   "source": [
    "## Generate Cities List"
   ]
  },
  {
   "cell_type": "code",
   "execution_count": 3,
   "metadata": {},
   "outputs": [
    {
     "data": {
      "text/plain": [
       "474"
      ]
     },
     "execution_count": 3,
     "metadata": {},
     "output_type": "execute_result"
    }
   ],
   "source": [
    "# List for holding lat_lngs and cities\n",
    "lat_lngs = []\n",
    "cities = []\n",
    "\n",
    "# Create a set of random lat and lng combinations\n",
    "lats = np.random.uniform(lat_range[0], lat_range[1], size=1000)\n",
    "lngs = np.random.uniform(lng_range[0], lng_range[1], size=1000)\n",
    "lat_lngs = zip(lats, lngs)\n",
    "\n",
    "# Identify nearest city for each lat, lng combination\n",
    "for lat_lng in lat_lngs:\n",
    "    city = citipy.nearest_city(lat_lng[0], lat_lng[1]).city_name\n",
    "    \n",
    "    # If the city is unique, then add it to a our cities list\n",
    "    if city not in cities:\n",
    "        cities.append(city)\n",
    "\n",
    "# Print the city count to confirm sufficient count\n",
    "len(cities)\n"
   ]
  },
  {
   "cell_type": "code",
   "execution_count": null,
   "metadata": {},
   "outputs": [],
   "source": []
  },
  {
   "cell_type": "markdown",
   "metadata": {},
   "source": [
    "### Perform API Calls\n",
    "* Perform a weather check on each city using a series of successive API calls.\n",
    "* Include a print log of each city as it'sbeing processed (with the city number and city name).\n"
   ]
  },
  {
   "cell_type": "code",
   "execution_count": 4,
   "metadata": {
    "scrolled": true
   },
   "outputs": [
    {
     "name": "stdout",
     "output_type": "stream",
     "text": [
      "processing iquique\n",
      "processing vaini\n",
      "processing coihaique\n",
      "processing baicheng\n",
      "processing iqaluit\n",
      "processing vallenar\n",
      "processing taolanaro\n",
      "skipped this city\n",
      "processing provideniya\n",
      "processing hermanus\n",
      "processing sabang\n",
      "processing asau\n",
      "processing port lincoln\n",
      "processing barrow\n",
      "processing dikson\n",
      "processing punta arenas\n",
      "processing nizhneyansk\n",
      "skipped this city\n",
      "processing marsa matruh\n",
      "processing klaksvik\n",
      "processing butaritari\n",
      "processing busselton\n",
      "processing nanortalik\n",
      "processing atuona\n",
      "processing tsabong\n",
      "processing east london\n",
      "processing ushuaia\n",
      "processing port alfred\n",
      "processing bluff\n",
      "processing port hardy\n",
      "processing amuntai\n",
      "processing yellowknife\n",
      "processing cururupu\n",
      "processing namibe\n",
      "processing guangyuan\n",
      "processing narsaq\n",
      "processing askino\n",
      "processing la ronge\n",
      "processing benin\n",
      "processing vao\n",
      "processing saleaula\n",
      "skipped this city\n",
      "processing mataura\n",
      "processing kitimat\n",
      "processing rikitea\n",
      "processing nikolskoye\n",
      "processing san patricio\n",
      "processing post falls\n",
      "processing bathsheba\n",
      "processing poya\n",
      "processing fairbanks\n",
      "processing imperia\n",
      "processing severo-kurilsk\n",
      "processing hobart\n",
      "processing chokurdakh\n",
      "processing sampit\n",
      "processing sungaipenuh\n",
      "processing lacaron\n",
      "processing namatanai\n",
      "processing lebu\n",
      "processing veraval\n",
      "processing karratha\n",
      "processing sangar\n",
      "processing mandalgovi\n",
      "processing krk\n",
      "processing hobyo\n",
      "processing aykhal\n",
      "processing mitu\n",
      "processing evensk\n",
      "processing thompson\n",
      "processing illoqqortoormiut\n",
      "skipped this city\n",
      "processing zavyalovo\n",
      "processing traralgon\n",
      "processing tsihombe\n",
      "skipped this city\n",
      "processing north bend\n",
      "processing kavieng\n",
      "processing tasiilaq\n",
      "processing norman wells\n",
      "processing andenes\n",
      "processing bengkulu\n",
      "processing ponta do sol\n",
      "processing aklavik\n",
      "processing road town\n",
      "processing dingle\n",
      "processing mys shmidta\n",
      "skipped this city\n",
      "processing kaniama\n",
      "processing lompoc\n",
      "processing porto novo\n",
      "processing mountain home\n",
      "processing bairiki\n",
      "processing cape town\n",
      "processing grindavik\n",
      "processing vardo\n",
      "processing port shepstone\n",
      "processing tabuk\n",
      "processing mufulira\n",
      "processing kabare\n",
      "processing albany\n",
      "processing arraial do cabo\n",
      "processing sobolevo\n",
      "processing ugoofaaru\n",
      "processing temaraia\n",
      "skipped this city\n",
      "processing port-gentil\n",
      "processing cairns\n",
      "processing avarua\n",
      "processing bali chak\n",
      "processing castro\n",
      "processing misratah\n",
      "processing kaset sombun\n",
      "processing bubaque\n",
      "processing hamilton\n",
      "processing saint-pierre\n",
      "processing kapaa\n",
      "processing bethel\n",
      "processing jamestown\n",
      "processing maumere\n",
      "processing homer\n",
      "processing pacific grove\n",
      "processing ilulissat\n",
      "processing mapiripan\n",
      "processing harper\n",
      "processing ribeira grande\n",
      "processing belushya guba\n",
      "skipped this city\n",
      "processing mar del plata\n",
      "processing coahuayana\n",
      "processing katsuura\n",
      "processing hilo\n",
      "processing saint-philippe\n",
      "processing khatanga\n",
      "processing mecca\n",
      "processing kamenskoye\n",
      "skipped this city\n",
      "processing itoman\n",
      "processing elko\n",
      "processing ngunguru\n",
      "processing kodiak\n",
      "processing rio gallegos\n",
      "processing stornoway\n",
      "processing komsomolskiy\n",
      "processing khani\n",
      "processing abay\n",
      "processing caxito\n",
      "processing hasaki\n",
      "processing sao joao da barra\n",
      "processing thinadhoo\n",
      "processing bjornevatn\n",
      "processing moramanga\n",
      "processing saint-francois\n",
      "processing qaanaaq\n",
      "processing chicama\n",
      "processing umzimvubu\n",
      "skipped this city\n",
      "processing surt\n",
      "processing karasjok\n",
      "processing shingu\n",
      "processing porangatu\n",
      "processing paamiut\n",
      "processing lasa\n",
      "processing jumla\n",
      "processing corowa\n",
      "processing ojinaga\n",
      "processing mount gambier\n",
      "processing korla\n",
      "processing birjand\n",
      "processing rocha\n",
      "processing waipawa\n",
      "processing ferkessedougou\n",
      "processing talnakh\n",
      "processing lorengau\n",
      "processing labuhan\n",
      "processing waddan\n",
      "processing miyako\n",
      "processing aranjuez\n",
      "processing phan rang\n",
      "skipped this city\n",
      "processing georgetown\n",
      "processing borogontsy\n",
      "processing kampot\n",
      "processing bambanglipuro\n",
      "processing candawaga\n",
      "skipped this city\n",
      "processing saint-augustin\n",
      "processing alice springs\n",
      "processing saskylakh\n",
      "processing longyearbyen\n",
      "processing tiksi\n",
      "processing skjervoy\n",
      "processing hofn\n",
      "processing quatre cocos\n",
      "processing garzon\n",
      "processing tari\n",
      "processing tuktoyaktuk\n",
      "processing wagar\n",
      "processing huarmey\n",
      "processing bonavista\n",
      "processing cabo san lucas\n",
      "processing promyshlennaya\n",
      "processing songjianghe\n",
      "processing puerto ayora\n",
      "processing millerovo\n",
      "processing padang\n",
      "processing paraiso\n",
      "processing ferai\n",
      "skipped this city\n",
      "processing port elizabeth\n",
      "processing touros\n",
      "processing nyurba\n",
      "processing mwinilunga\n",
      "processing biak\n",
      "processing kalabo\n",
      "processing ust-tsilma\n",
      "processing haines junction\n",
      "processing saint leonard\n",
      "processing corrales\n",
      "processing champerico\n",
      "processing hithadhoo\n",
      "processing fortuna\n",
      "processing the pas\n",
      "processing pisco\n",
      "processing victoria\n",
      "processing zhigansk\n",
      "processing saint george\n",
      "processing saldanha\n",
      "processing alizai\n",
      "processing pevek\n",
      "processing muros\n",
      "processing esperance\n",
      "processing havelock\n",
      "processing bocas del toro\n",
      "processing artyk\n",
      "skipped this city\n",
      "processing mbini\n",
      "processing severodvinsk\n",
      "processing malanje\n",
      "processing kosa\n",
      "processing itarema\n",
      "processing maragogi\n",
      "processing airai\n",
      "processing epe\n",
      "processing sahrak\n",
      "skipped this city\n",
      "processing buraydah\n",
      "processing kahului\n",
      "processing walvis bay\n",
      "processing bredasdorp\n",
      "processing konevo\n",
      "processing sitka\n",
      "processing bandarbeyla\n",
      "processing ucluelet\n",
      "processing christchurch\n",
      "processing santa ana\n",
      "processing samarinda\n",
      "processing ostrovnoy\n",
      "processing flinders\n",
      "processing san cristobal\n",
      "processing chuy\n",
      "processing codrington\n",
      "processing mocambique\n",
      "skipped this city\n",
      "processing mehamn\n",
      "processing lucapa\n",
      "processing emerald\n",
      "processing kamaishi\n",
      "processing mayor pablo lagerenza\n",
      "processing barentsburg\n",
      "skipped this city\n",
      "processing agnibilekrou\n",
      "processing lavrentiya\n",
      "processing sao jose da coroa grande\n",
      "processing umm durman\n",
      "skipped this city\n",
      "processing fort nelson\n",
      "processing russell\n",
      "processing villa carlos paz\n",
      "processing bereda\n",
      "processing ancud\n",
      "processing vaitupu\n",
      "skipped this city\n",
      "processing solnechnyy\n",
      "processing eydhafushi\n",
      "processing bam\n",
      "processing shimoda\n",
      "processing ulaangom\n",
      "processing shostka\n",
      "processing burnie\n",
      "processing berdigestyakh\n",
      "processing hwange\n",
      "processing cherskiy\n",
      "processing novobureyskiy\n",
      "processing hailar\n",
      "processing pocatello\n",
      "processing garden city\n",
      "processing rundu\n",
      "processing zachagansk\n",
      "skipped this city\n",
      "processing cedar city\n",
      "processing isangel\n",
      "processing sentyabrskiy\n",
      "skipped this city\n",
      "processing mayahi\n",
      "processing malanville\n",
      "processing pimentel\n",
      "processing mossendjo\n",
      "processing marcona\n",
      "skipped this city\n",
      "processing kavaratti\n",
      "processing gushikawa\n",
      "processing manuk mangkaw\n",
      "processing lagoa\n",
      "processing kirakira\n",
      "processing acapulco\n",
      "processing redmond\n",
      "processing ossora\n",
      "processing tanda\n",
      "processing lokosovo\n",
      "processing kondoa\n",
      "processing orchard homes\n",
      "processing marfino\n",
      "processing bonfim\n",
      "processing kieta\n",
      "processing tupik\n",
      "processing bulgan\n",
      "processing arlit\n",
      "processing muisne\n",
      "processing salinopolis\n",
      "processing humaita\n",
      "processing leningradskiy\n",
      "processing djenne\n",
      "processing uvinza\n",
      "processing new norfolk\n",
      "processing kaitangata\n",
      "processing sumenep\n",
      "processing hoi an\n",
      "processing cockburn town\n",
      "processing torbay\n",
      "processing vila velha\n",
      "processing lebedinyy\n",
      "processing bratsk\n",
      "processing stamsund\n",
      "skipped this city\n",
      "processing greencastle\n",
      "processing margate\n",
      "processing sarangani\n",
      "processing sao pedro do sul\n",
      "processing gamba\n",
      "processing amderma\n",
      "skipped this city\n",
      "processing teya\n",
      "processing merauke\n",
      "processing kambove\n",
      "processing avera\n",
      "processing forestville\n",
      "processing beringovskiy\n",
      "processing manado\n",
      "processing vestmannaeyjar\n",
      "processing pushkino\n",
      "processing banjar\n",
      "processing canico\n",
      "processing mahebourg\n",
      "processing zabaykalsk\n",
      "processing kajansi\n",
      "processing severomuysk\n",
      "processing bilma\n",
      "processing laguna\n",
      "processing kansk\n",
      "processing pangnirtung\n",
      "processing half moon bay\n",
      "processing brae\n",
      "processing saint-michel-des-saints\n",
      "processing verkhnevilyuysk\n",
      "processing tuatapere\n",
      "processing agua verde\n",
      "processing haicheng\n",
      "processing kudahuvadhoo\n",
      "processing jamkhandi\n",
      "processing nara\n",
      "processing hauterive\n",
      "processing ibra\n",
      "processing russellville\n",
      "processing souillac\n",
      "processing carnarvon\n",
      "processing vagur\n",
      "processing vanimo\n",
      "processing ambodifototra\n",
      "skipped this city\n",
      "processing jinchang\n",
      "processing awjilah\n",
      "processing hare bay\n",
      "processing tubara\n",
      "processing hay river\n",
      "processing los llanos de aridane\n",
      "processing henties bay\n",
      "processing kyabram\n",
      "processing faanui\n",
      "processing caravelas\n",
      "processing berlevag\n",
      "processing gimbi\n",
      "processing oranjemund\n",
      "processing mocuba\n",
      "processing axim\n"
     ]
    },
    {
     "name": "stdout",
     "output_type": "stream",
     "text": [
      "processing siguiri\n",
      "processing bata\n",
      "processing hambantota\n",
      "processing mokhsogollokh\n",
      "processing bolungarvik\n",
      "skipped this city\n",
      "processing yanan\n",
      "skipped this city\n",
      "processing tura\n",
      "processing geraldton\n",
      "processing vestmanna\n",
      "processing tuscaloosa\n",
      "processing calama\n",
      "processing khuzhir\n",
      "processing makakilo city\n",
      "processing kajaani\n",
      "processing luderitz\n",
      "processing changping\n",
      "processing balkhash\n",
      "processing wangqing\n",
      "processing havoysund\n",
      "processing marzuq\n",
      "processing atar\n",
      "processing dzhusaly\n",
      "skipped this city\n",
      "processing amalapuram\n",
      "processing neuquen\n",
      "processing kropotkin\n",
      "processing nanga eboko\n",
      "processing yulara\n",
      "processing mana\n",
      "processing fort saint james\n",
      "processing beloha\n",
      "processing umm lajj\n",
      "processing salta\n",
      "processing constitucion\n",
      "processing palmer\n",
      "processing teahupoo\n",
      "processing oksfjord\n",
      "processing verkhoyansk\n",
      "processing atmakur\n",
      "processing cascais\n",
      "processing rungata\n",
      "skipped this city\n",
      "processing toliary\n",
      "skipped this city\n",
      "processing lunenburg\n",
      "processing copiapo\n",
      "processing basco\n",
      "processing bur gabo\n",
      "skipped this city\n",
      "processing killam\n",
      "processing aquiraz\n",
      "processing green river\n",
      "processing shahpur chakar\n",
      "processing dalbandin\n",
      "processing xai-xai\n",
      "processing marathon\n",
      "processing khalkhal\n",
      "processing panaba\n",
      "processing sabana de torres\n",
      "processing san bartolome\n",
      "processing sinfra\n",
      "processing prieska\n",
      "processing lincoln\n",
      "processing tecoanapa\n",
      "processing nyazepetrovsk\n",
      "processing aras\n",
      "processing sao filipe\n",
      "processing houma\n",
      "processing desaguadero\n",
      "processing umm jarr\n",
      "skipped this city\n",
      "processing mitsukaido\n",
      "processing grand river south east\n",
      "skipped this city\n",
      "processing tazovskiy\n",
      "processing carlow\n",
      "processing iguape\n",
      "processing stantsionno-oyashinskiy\n",
      "processing sindor\n",
      "processing portland\n",
      "processing bahir dar\n",
      "processing roberto payan\n",
      "skipped this city\n",
      "processing ituni\n",
      "skipped this city\n",
      "processing choix\n",
      "processing halalo\n",
      "skipped this city\n",
      "processing vila\n",
      "processing ambulu\n",
      "processing lesozavodsk\n",
      "processing khorinsk\n",
      "processing bukama\n",
      "processing prince rupert\n",
      "processing bryan\n",
      "processing attawapiskat\n",
      "skipped this city\n",
      "processing colac\n",
      "processing laurel\n",
      "processing abu dhabi\n",
      "processing mosquera\n",
      "processing ammon\n",
      "processing high level\n",
      "processing ikungi\n"
     ]
    }
   ],
   "source": [
    "temp=[]\n",
    "humidity=[]\n",
    "cloudy=[]\n",
    "wind_speed=[]\n",
    "date=[]\n",
    "long=[]\n",
    "lat=[]\n",
    "city=[]\n",
    "for city in cities:\n",
    "    time.sleep(1)\n",
    "    print(f'processing {city}')\n",
    "    url = \"http://api.openweathermap.org/data/2.5/weather?units=Imperial&APPID=\" + weather_api_key + \"&q=\" + city\n",
    "    response = requests.get(url).json()\n",
    "    try:\n",
    "        temp.append(response['main']['temp_max'])\n",
    "        humidity.append(response['main']['humidity'])\n",
    "        cloudy.append(response['clouds']['all'])\n",
    "        wind_speed.append(response['wind']['speed'])\n",
    "        date.append(response['dt'])\n",
    "        long.append(response['coord']['lon'])\n",
    "        lat.append(response['coord']['lat'])\n",
    "\n",
    "    except:\n",
    "        print('skipped this city')\n",
    "        pass \n",
    "    "
   ]
  },
  {
   "cell_type": "code",
   "execution_count": null,
   "metadata": {},
   "outputs": [],
   "source": []
  },
  {
   "cell_type": "code",
   "execution_count": null,
   "metadata": {},
   "outputs": [],
   "source": []
  },
  {
   "cell_type": "code",
   "execution_count": null,
   "metadata": {},
   "outputs": [],
   "source": []
  },
  {
   "cell_type": "code",
   "execution_count": null,
   "metadata": {},
   "outputs": [],
   "source": []
  },
  {
   "cell_type": "code",
   "execution_count": 5,
   "metadata": {},
   "outputs": [],
   "source": [
    "#time.strftime(\"%a, %d %b %Y %H:%M:%S +0000\", time.localtime())"
   ]
  },
  {
   "cell_type": "code",
   "execution_count": null,
   "metadata": {},
   "outputs": [],
   "source": []
  },
  {
   "cell_type": "markdown",
   "metadata": {},
   "source": [
    "### Convert Raw Data to DataFrame\n",
    "* Export the city data into a .csv.\n",
    "* Display the DataFrame"
   ]
  },
  {
   "cell_type": "code",
   "execution_count": 6,
   "metadata": {},
   "outputs": [],
   "source": [
    "weather={ 'Lat':lat,\n",
    "         'Lng':long,\n",
    "         'Max Temp':temp, \n",
    "         'Humidity': humidity, \n",
    "         'Cloudiness':cloudy, \n",
    "         'Wind Speed': wind_speed,\n",
    "        'Date': date}\n",
    "\n"
   ]
  },
  {
   "cell_type": "code",
   "execution_count": 7,
   "metadata": {},
   "outputs": [
    {
     "data": {
      "text/html": [
       "<div>\n",
       "<style scoped>\n",
       "    .dataframe tbody tr th:only-of-type {\n",
       "        vertical-align: middle;\n",
       "    }\n",
       "\n",
       "    .dataframe tbody tr th {\n",
       "        vertical-align: top;\n",
       "    }\n",
       "\n",
       "    .dataframe thead th {\n",
       "        text-align: right;\n",
       "    }\n",
       "</style>\n",
       "<table border=\"1\" class=\"dataframe\">\n",
       "  <thead>\n",
       "    <tr style=\"text-align: right;\">\n",
       "      <th></th>\n",
       "      <th>Lat</th>\n",
       "      <th>Lng</th>\n",
       "      <th>Max Temp</th>\n",
       "      <th>Humidity</th>\n",
       "      <th>Cloudiness</th>\n",
       "      <th>Wind Speed</th>\n",
       "      <th>Date</th>\n",
       "    </tr>\n",
       "  </thead>\n",
       "  <tbody>\n",
       "    <tr>\n",
       "      <th>0</th>\n",
       "      <td>-20.22</td>\n",
       "      <td>-70.14</td>\n",
       "      <td>64.40</td>\n",
       "      <td>68</td>\n",
       "      <td>20</td>\n",
       "      <td>14.99</td>\n",
       "      <td>1604331217</td>\n",
       "    </tr>\n",
       "    <tr>\n",
       "      <th>1</th>\n",
       "      <td>-21.20</td>\n",
       "      <td>-175.20</td>\n",
       "      <td>73.40</td>\n",
       "      <td>94</td>\n",
       "      <td>75</td>\n",
       "      <td>9.17</td>\n",
       "      <td>1604331493</td>\n",
       "    </tr>\n",
       "    <tr>\n",
       "      <th>2</th>\n",
       "      <td>-45.58</td>\n",
       "      <td>-72.07</td>\n",
       "      <td>60.80</td>\n",
       "      <td>63</td>\n",
       "      <td>0</td>\n",
       "      <td>4.99</td>\n",
       "      <td>1604331494</td>\n",
       "    </tr>\n",
       "    <tr>\n",
       "      <th>3</th>\n",
       "      <td>45.62</td>\n",
       "      <td>122.82</td>\n",
       "      <td>24.35</td>\n",
       "      <td>75</td>\n",
       "      <td>0</td>\n",
       "      <td>9.33</td>\n",
       "      <td>1604331495</td>\n",
       "    </tr>\n",
       "    <tr>\n",
       "      <th>4</th>\n",
       "      <td>63.75</td>\n",
       "      <td>-68.51</td>\n",
       "      <td>15.80</td>\n",
       "      <td>72</td>\n",
       "      <td>75</td>\n",
       "      <td>10.29</td>\n",
       "      <td>1604331496</td>\n",
       "    </tr>\n",
       "    <tr>\n",
       "      <th>...</th>\n",
       "      <td>...</td>\n",
       "      <td>...</td>\n",
       "      <td>...</td>\n",
       "      <td>...</td>\n",
       "      <td>...</td>\n",
       "      <td>...</td>\n",
       "      <td>...</td>\n",
       "    </tr>\n",
       "    <tr>\n",
       "      <th>432</th>\n",
       "      <td>24.47</td>\n",
       "      <td>54.37</td>\n",
       "      <td>84.20</td>\n",
       "      <td>66</td>\n",
       "      <td>0</td>\n",
       "      <td>5.82</td>\n",
       "      <td>1604331906</td>\n",
       "    </tr>\n",
       "    <tr>\n",
       "      <th>433</th>\n",
       "      <td>4.71</td>\n",
       "      <td>-74.23</td>\n",
       "      <td>66.20</td>\n",
       "      <td>55</td>\n",
       "      <td>40</td>\n",
       "      <td>5.82</td>\n",
       "      <td>1604332051</td>\n",
       "    </tr>\n",
       "    <tr>\n",
       "      <th>434</th>\n",
       "      <td>43.47</td>\n",
       "      <td>-111.97</td>\n",
       "      <td>28.40</td>\n",
       "      <td>63</td>\n",
       "      <td>1</td>\n",
       "      <td>6.93</td>\n",
       "      <td>1604331854</td>\n",
       "    </tr>\n",
       "    <tr>\n",
       "      <th>435</th>\n",
       "      <td>58.52</td>\n",
       "      <td>-117.14</td>\n",
       "      <td>17.60</td>\n",
       "      <td>100</td>\n",
       "      <td>90</td>\n",
       "      <td>6.93</td>\n",
       "      <td>1604332053</td>\n",
       "    </tr>\n",
       "    <tr>\n",
       "      <th>436</th>\n",
       "      <td>-5.13</td>\n",
       "      <td>34.77</td>\n",
       "      <td>75.81</td>\n",
       "      <td>35</td>\n",
       "      <td>49</td>\n",
       "      <td>6.11</td>\n",
       "      <td>1604332055</td>\n",
       "    </tr>\n",
       "  </tbody>\n",
       "</table>\n",
       "<p>437 rows × 7 columns</p>\n",
       "</div>"
      ],
      "text/plain": [
       "       Lat     Lng  Max Temp  Humidity  Cloudiness  Wind Speed        Date\n",
       "0   -20.22  -70.14     64.40        68          20       14.99  1604331217\n",
       "1   -21.20 -175.20     73.40        94          75        9.17  1604331493\n",
       "2   -45.58  -72.07     60.80        63           0        4.99  1604331494\n",
       "3    45.62  122.82     24.35        75           0        9.33  1604331495\n",
       "4    63.75  -68.51     15.80        72          75       10.29  1604331496\n",
       "..     ...     ...       ...       ...         ...         ...         ...\n",
       "432  24.47   54.37     84.20        66           0        5.82  1604331906\n",
       "433   4.71  -74.23     66.20        55          40        5.82  1604332051\n",
       "434  43.47 -111.97     28.40        63           1        6.93  1604331854\n",
       "435  58.52 -117.14     17.60       100          90        6.93  1604332053\n",
       "436  -5.13   34.77     75.81        35          49        6.11  1604332055\n",
       "\n",
       "[437 rows x 7 columns]"
      ]
     },
     "execution_count": 7,
     "metadata": {},
     "output_type": "execute_result"
    }
   ],
   "source": [
    "weather_df=pd.DataFrame(weather)\n",
    "weather_df"
   ]
  },
  {
   "cell_type": "markdown",
   "metadata": {},
   "source": [
    "## Inspect the data and remove the cities where the humidity > 100%.\n",
    "----\n",
    "Skip this step if there are no cities that have humidity > 100%. "
   ]
  },
  {
   "cell_type": "code",
   "execution_count": 8,
   "metadata": {},
   "outputs": [
    {
     "data": {
      "text/plain": [
       "Lat           float64\n",
       "Lng           float64\n",
       "Max Temp      float64\n",
       "Humidity        int64\n",
       "Cloudiness      int64\n",
       "Wind Speed    float64\n",
       "Date            int64\n",
       "dtype: object"
      ]
     },
     "execution_count": 8,
     "metadata": {},
     "output_type": "execute_result"
    }
   ],
   "source": [
    "weather_df.dtypes"
   ]
  },
  {
   "cell_type": "code",
   "execution_count": 9,
   "metadata": {},
   "outputs": [],
   "source": [
    "weather_clean=weather_df.loc[weather_df['Humidity']>100]\n",
    "indicies=weather_df.loc[weather_df['Humidity']>100].index"
   ]
  },
  {
   "cell_type": "code",
   "execution_count": 10,
   "metadata": {},
   "outputs": [
    {
     "data": {
      "text/html": [
       "<div>\n",
       "<style scoped>\n",
       "    .dataframe tbody tr th:only-of-type {\n",
       "        vertical-align: middle;\n",
       "    }\n",
       "\n",
       "    .dataframe tbody tr th {\n",
       "        vertical-align: top;\n",
       "    }\n",
       "\n",
       "    .dataframe thead th {\n",
       "        text-align: right;\n",
       "    }\n",
       "</style>\n",
       "<table border=\"1\" class=\"dataframe\">\n",
       "  <thead>\n",
       "    <tr style=\"text-align: right;\">\n",
       "      <th></th>\n",
       "      <th>Lat</th>\n",
       "      <th>Lng</th>\n",
       "      <th>Max Temp</th>\n",
       "      <th>Humidity</th>\n",
       "      <th>Cloudiness</th>\n",
       "      <th>Wind Speed</th>\n",
       "      <th>Date</th>\n",
       "    </tr>\n",
       "  </thead>\n",
       "  <tbody>\n",
       "  </tbody>\n",
       "</table>\n",
       "</div>"
      ],
      "text/plain": [
       "Empty DataFrame\n",
       "Columns: [Lat, Lng, Max Temp, Humidity, Cloudiness, Wind Speed, Date]\n",
       "Index: []"
      ]
     },
     "execution_count": 10,
     "metadata": {},
     "output_type": "execute_result"
    }
   ],
   "source": [
    "weather_clean"
   ]
  },
  {
   "cell_type": "code",
   "execution_count": 11,
   "metadata": {},
   "outputs": [
    {
     "data": {
      "text/html": [
       "<div>\n",
       "<style scoped>\n",
       "    .dataframe tbody tr th:only-of-type {\n",
       "        vertical-align: middle;\n",
       "    }\n",
       "\n",
       "    .dataframe tbody tr th {\n",
       "        vertical-align: top;\n",
       "    }\n",
       "\n",
       "    .dataframe thead th {\n",
       "        text-align: right;\n",
       "    }\n",
       "</style>\n",
       "<table border=\"1\" class=\"dataframe\">\n",
       "  <thead>\n",
       "    <tr style=\"text-align: right;\">\n",
       "      <th></th>\n",
       "      <th>Lat</th>\n",
       "      <th>Lng</th>\n",
       "      <th>Max Temp</th>\n",
       "      <th>Humidity</th>\n",
       "      <th>Cloudiness</th>\n",
       "      <th>Wind Speed</th>\n",
       "      <th>Date</th>\n",
       "    </tr>\n",
       "  </thead>\n",
       "  <tbody>\n",
       "    <tr>\n",
       "      <th>0</th>\n",
       "      <td>-20.22</td>\n",
       "      <td>-70.14</td>\n",
       "      <td>64.40</td>\n",
       "      <td>68</td>\n",
       "      <td>20</td>\n",
       "      <td>14.99</td>\n",
       "      <td>1604331217</td>\n",
       "    </tr>\n",
       "    <tr>\n",
       "      <th>1</th>\n",
       "      <td>-21.20</td>\n",
       "      <td>-175.20</td>\n",
       "      <td>73.40</td>\n",
       "      <td>94</td>\n",
       "      <td>75</td>\n",
       "      <td>9.17</td>\n",
       "      <td>1604331493</td>\n",
       "    </tr>\n",
       "    <tr>\n",
       "      <th>2</th>\n",
       "      <td>-45.58</td>\n",
       "      <td>-72.07</td>\n",
       "      <td>60.80</td>\n",
       "      <td>63</td>\n",
       "      <td>0</td>\n",
       "      <td>4.99</td>\n",
       "      <td>1604331494</td>\n",
       "    </tr>\n",
       "    <tr>\n",
       "      <th>3</th>\n",
       "      <td>45.62</td>\n",
       "      <td>122.82</td>\n",
       "      <td>24.35</td>\n",
       "      <td>75</td>\n",
       "      <td>0</td>\n",
       "      <td>9.33</td>\n",
       "      <td>1604331495</td>\n",
       "    </tr>\n",
       "    <tr>\n",
       "      <th>4</th>\n",
       "      <td>63.75</td>\n",
       "      <td>-68.51</td>\n",
       "      <td>15.80</td>\n",
       "      <td>72</td>\n",
       "      <td>75</td>\n",
       "      <td>10.29</td>\n",
       "      <td>1604331496</td>\n",
       "    </tr>\n",
       "    <tr>\n",
       "      <th>...</th>\n",
       "      <td>...</td>\n",
       "      <td>...</td>\n",
       "      <td>...</td>\n",
       "      <td>...</td>\n",
       "      <td>...</td>\n",
       "      <td>...</td>\n",
       "      <td>...</td>\n",
       "    </tr>\n",
       "    <tr>\n",
       "      <th>432</th>\n",
       "      <td>24.47</td>\n",
       "      <td>54.37</td>\n",
       "      <td>84.20</td>\n",
       "      <td>66</td>\n",
       "      <td>0</td>\n",
       "      <td>5.82</td>\n",
       "      <td>1604331906</td>\n",
       "    </tr>\n",
       "    <tr>\n",
       "      <th>433</th>\n",
       "      <td>4.71</td>\n",
       "      <td>-74.23</td>\n",
       "      <td>66.20</td>\n",
       "      <td>55</td>\n",
       "      <td>40</td>\n",
       "      <td>5.82</td>\n",
       "      <td>1604332051</td>\n",
       "    </tr>\n",
       "    <tr>\n",
       "      <th>434</th>\n",
       "      <td>43.47</td>\n",
       "      <td>-111.97</td>\n",
       "      <td>28.40</td>\n",
       "      <td>63</td>\n",
       "      <td>1</td>\n",
       "      <td>6.93</td>\n",
       "      <td>1604331854</td>\n",
       "    </tr>\n",
       "    <tr>\n",
       "      <th>435</th>\n",
       "      <td>58.52</td>\n",
       "      <td>-117.14</td>\n",
       "      <td>17.60</td>\n",
       "      <td>100</td>\n",
       "      <td>90</td>\n",
       "      <td>6.93</td>\n",
       "      <td>1604332053</td>\n",
       "    </tr>\n",
       "    <tr>\n",
       "      <th>436</th>\n",
       "      <td>-5.13</td>\n",
       "      <td>34.77</td>\n",
       "      <td>75.81</td>\n",
       "      <td>35</td>\n",
       "      <td>49</td>\n",
       "      <td>6.11</td>\n",
       "      <td>1604332055</td>\n",
       "    </tr>\n",
       "  </tbody>\n",
       "</table>\n",
       "<p>437 rows × 7 columns</p>\n",
       "</div>"
      ],
      "text/plain": [
       "       Lat     Lng  Max Temp  Humidity  Cloudiness  Wind Speed        Date\n",
       "0   -20.22  -70.14     64.40        68          20       14.99  1604331217\n",
       "1   -21.20 -175.20     73.40        94          75        9.17  1604331493\n",
       "2   -45.58  -72.07     60.80        63           0        4.99  1604331494\n",
       "3    45.62  122.82     24.35        75           0        9.33  1604331495\n",
       "4    63.75  -68.51     15.80        72          75       10.29  1604331496\n",
       "..     ...     ...       ...       ...         ...         ...         ...\n",
       "432  24.47   54.37     84.20        66           0        5.82  1604331906\n",
       "433   4.71  -74.23     66.20        55          40        5.82  1604332051\n",
       "434  43.47 -111.97     28.40        63           1        6.93  1604331854\n",
       "435  58.52 -117.14     17.60       100          90        6.93  1604332053\n",
       "436  -5.13   34.77     75.81        35          49        6.11  1604332055\n",
       "\n",
       "[437 rows x 7 columns]"
      ]
     },
     "execution_count": 11,
     "metadata": {},
     "output_type": "execute_result"
    }
   ],
   "source": [
    "#  Get the indices of cities that have humidity over 100%.\n",
    "weather_df"
   ]
  },
  {
   "cell_type": "code",
   "execution_count": 12,
   "metadata": {
    "scrolled": true
   },
   "outputs": [],
   "source": [
    "# Make a new DataFrame equal to the city data to drop all humidity outliers by index.\n",
    "# Passing \"inplace=False\" will make a copy of the city_data DataFrame, which we call \"clean_city_data\".\n",
    "#clean_city_data=weather_df.drop(indicies, inplace='False' ) function of indicies"
   ]
  },
  {
   "cell_type": "code",
   "execution_count": null,
   "metadata": {},
   "outputs": [],
   "source": [
    "\n"
   ]
  },
  {
   "cell_type": "markdown",
   "metadata": {},
   "source": [
    "## Plotting the Data\n",
    "* Use proper labeling of the plots using plot titles (including date of analysis) and axes labels.\n",
    "* Save the plotted figures as .pngs."
   ]
  },
  {
   "cell_type": "markdown",
   "metadata": {},
   "source": [
    "## Latitude vs. Temperature Plot"
   ]
  },
  {
   "cell_type": "code",
   "execution_count": 13,
   "metadata": {
    "scrolled": true
   },
   "outputs": [
    {
     "data": {
      "image/png": "[encoded data removed]",
      "text/plain": [
       "<Figure size 432x288 with 1 Axes>"
      ]
     },
     "metadata": {
      "needs_background": "light"
     },
     "output_type": "display_data"
    }
   ],
   "source": [
    "from datetime import datetime\n",
    "now = datetime.now() # current date and time\n",
    "date_time = now.strftime(\"%m/%d/%Y\")\n",
    "plt.scatter(weather_df['Lat'],weather_df['Max Temp'], edgecolors='black')\n",
    "plt.grid('True')\n",
    "plt.xlabel('Latitude')\n",
    "plt.ylabel('Temperature')\n",
    "plt.title(f'City Lat vs. Max Temperature on {date_time}')\n",
    "plt.savefig('../output_data/temp_plot.png')\n",
    "\n",
    "#time.strftime(\"%a, %d %b %Y %H:%M:%S +0000\", time.localtime())"
   ]
  },
  {
   "cell_type": "markdown",
   "metadata": {},
   "source": [
    "## Latitude vs. Humidity Plot"
   ]
  },
  {
   "cell_type": "code",
   "execution_count": 14,
   "metadata": {},
   "outputs": [
    {
     "data": {
      "image/png": "[encoded data removed]",
      "text/plain": [
       "<Figure size 432x288 with 1 Axes>"
      ]
     },
     "metadata": {
      "needs_background": "light"
     },
     "output_type": "display_data"
    }
   ],
   "source": [
    "plt.scatter(weather_df['Lat'],weather_df['Humidity'], edgecolors='black')\n",
    "plt.grid('True')\n",
    "plt.xlabel('Latitude')\n",
    "plt.ylabel('Humidity(%)')\n",
    "plt.title(f'City Lat vs. Humidity on {date_time}')\n",
    "plt.savefig('../output_data/humidity_plot.png')"
   ]
  },
  {
   "cell_type": "markdown",
   "metadata": {},
   "source": [
    "## Latitude vs. Cloudiness Plot"
   ]
  },
  {
   "cell_type": "code",
   "execution_count": 15,
   "metadata": {},
   "outputs": [
    {
     "data": {
      "image/png": "[encoded data removed]",
      "text/plain": [
       "<Figure size 432x288 with 1 Axes>"
      ]
     },
     "metadata": {
      "needs_background": "light"
     },
     "output_type": "display_data"
    }
   ],
   "source": [
    "plt.scatter(weather_df['Lat'],weather_df['Cloudiness'], edgecolors='black')\n",
    "plt.grid('True')\n",
    "plt.xlabel('Latitude')\n",
    "plt.ylabel('Cloudiness')\n",
    "plt.title(f'City Lat vs. Cloudiness {date_time}')\n",
    "plt.savefig('../output_data/cloudiness_plot.png')"
   ]
  },
  {
   "cell_type": "markdown",
   "metadata": {},
   "source": [
    "## Latitude vs. Wind Speed Plot"
   ]
  },
  {
   "cell_type": "code",
   "execution_count": 16,
   "metadata": {},
   "outputs": [
    {
     "data": {
      "image/png": "[encoded data removed]",
      "text/plain": [
       "<Figure size 432x288 with 1 Axes>"
      ]
     },
     "metadata": {
      "needs_background": "light"
     },
     "output_type": "display_data"
    }
   ],
   "source": [
    "plt.scatter(weather_df['Lat'],weather_df['Wind Speed'], edgecolors='black')\n",
    "plt.grid('True')\n",
    "plt.xlabel('Latitude')\n",
    "plt.ylabel('Wind Speed')\n",
    "plt.title(f'City Lat vs. Wind Speed on {date_time}')\n",
    "plt.savefig('../output_data/wind_speed_plot.png')"
   ]
  },
  {
   "cell_type": "markdown",
   "metadata": {},
   "source": [
    "## Linear Regression"
   ]
  },
  {
   "cell_type": "code",
   "execution_count": 17,
   "metadata": {
    "scrolled": true
   },
   "outputs": [
    {
     "data": {
      "text/html": [
       "<div>\n",
       "<style scoped>\n",
       "    .dataframe tbody tr th:only-of-type {\n",
       "        vertical-align: middle;\n",
       "    }\n",
       "\n",
       "    .dataframe tbody tr th {\n",
       "        vertical-align: top;\n",
       "    }\n",
       "\n",
       "    .dataframe thead th {\n",
       "        text-align: right;\n",
       "    }\n",
       "</style>\n",
       "<table border=\"1\" class=\"dataframe\">\n",
       "  <thead>\n",
       "    <tr style=\"text-align: right;\">\n",
       "      <th></th>\n",
       "      <th>Lat</th>\n",
       "      <th>Lng</th>\n",
       "      <th>Max Temp</th>\n",
       "      <th>Humidity</th>\n",
       "      <th>Cloudiness</th>\n",
       "      <th>Wind Speed</th>\n",
       "      <th>Date</th>\n",
       "    </tr>\n",
       "  </thead>\n",
       "  <tbody>\n",
       "    <tr>\n",
       "      <th>3</th>\n",
       "      <td>45.62</td>\n",
       "      <td>122.82</td>\n",
       "      <td>24.35</td>\n",
       "      <td>75.0</td>\n",
       "      <td>0.0</td>\n",
       "      <td>9.33</td>\n",
       "      <td>1.604331e+09</td>\n",
       "    </tr>\n",
       "    <tr>\n",
       "      <th>4</th>\n",
       "      <td>63.75</td>\n",
       "      <td>-68.51</td>\n",
       "      <td>15.80</td>\n",
       "      <td>72.0</td>\n",
       "      <td>75.0</td>\n",
       "      <td>10.29</td>\n",
       "      <td>1.604331e+09</td>\n",
       "    </tr>\n",
       "    <tr>\n",
       "      <th>6</th>\n",
       "      <td>64.38</td>\n",
       "      <td>-173.30</td>\n",
       "      <td>23.56</td>\n",
       "      <td>94.0</td>\n",
       "      <td>53.0</td>\n",
       "      <td>7.54</td>\n",
       "      <td>1.604331e+09</td>\n",
       "    </tr>\n",
       "    <tr>\n",
       "      <th>8</th>\n",
       "      <td>5.89</td>\n",
       "      <td>95.32</td>\n",
       "      <td>82.17</td>\n",
       "      <td>78.0</td>\n",
       "      <td>98.0</td>\n",
       "      <td>3.69</td>\n",
       "      <td>1.604332e+09</td>\n",
       "    </tr>\n",
       "    <tr>\n",
       "      <th>9</th>\n",
       "      <td>46.43</td>\n",
       "      <td>26.40</td>\n",
       "      <td>50.00</td>\n",
       "      <td>76.0</td>\n",
       "      <td>0.0</td>\n",
       "      <td>4.70</td>\n",
       "      <td>1.604332e+09</td>\n",
       "    </tr>\n",
       "    <tr>\n",
       "      <th>...</th>\n",
       "      <td>...</td>\n",
       "      <td>...</td>\n",
       "      <td>...</td>\n",
       "      <td>...</td>\n",
       "      <td>...</td>\n",
       "      <td>...</td>\n",
       "      <td>...</td>\n",
       "    </tr>\n",
       "    <tr>\n",
       "      <th>431</th>\n",
       "      <td>39.10</td>\n",
       "      <td>-76.85</td>\n",
       "      <td>46.00</td>\n",
       "      <td>52.0</td>\n",
       "      <td>40.0</td>\n",
       "      <td>19.46</td>\n",
       "      <td>1.604332e+09</td>\n",
       "    </tr>\n",
       "    <tr>\n",
       "      <th>432</th>\n",
       "      <td>24.47</td>\n",
       "      <td>54.37</td>\n",
       "      <td>84.20</td>\n",
       "      <td>66.0</td>\n",
       "      <td>0.0</td>\n",
       "      <td>5.82</td>\n",
       "      <td>1.604332e+09</td>\n",
       "    </tr>\n",
       "    <tr>\n",
       "      <th>433</th>\n",
       "      <td>4.71</td>\n",
       "      <td>-74.23</td>\n",
       "      <td>66.20</td>\n",
       "      <td>55.0</td>\n",
       "      <td>40.0</td>\n",
       "      <td>5.82</td>\n",
       "      <td>1.604332e+09</td>\n",
       "    </tr>\n",
       "    <tr>\n",
       "      <th>434</th>\n",
       "      <td>43.47</td>\n",
       "      <td>-111.97</td>\n",
       "      <td>28.40</td>\n",
       "      <td>63.0</td>\n",
       "      <td>1.0</td>\n",
       "      <td>6.93</td>\n",
       "      <td>1.604332e+09</td>\n",
       "    </tr>\n",
       "    <tr>\n",
       "      <th>435</th>\n",
       "      <td>58.52</td>\n",
       "      <td>-117.14</td>\n",
       "      <td>17.60</td>\n",
       "      <td>100.0</td>\n",
       "      <td>90.0</td>\n",
       "      <td>6.93</td>\n",
       "      <td>1.604332e+09</td>\n",
       "    </tr>\n",
       "  </tbody>\n",
       "</table>\n",
       "<p>297 rows × 7 columns</p>\n",
       "</div>"
      ],
      "text/plain": [
       "       Lat     Lng  Max Temp  Humidity  Cloudiness  Wind Speed          Date\n",
       "3    45.62  122.82     24.35      75.0         0.0        9.33  1.604331e+09\n",
       "4    63.75  -68.51     15.80      72.0        75.0       10.29  1.604331e+09\n",
       "6    64.38 -173.30     23.56      94.0        53.0        7.54  1.604331e+09\n",
       "8     5.89   95.32     82.17      78.0        98.0        3.69  1.604332e+09\n",
       "9    46.43   26.40     50.00      76.0         0.0        4.70  1.604332e+09\n",
       "..     ...     ...       ...       ...         ...         ...           ...\n",
       "431  39.10  -76.85     46.00      52.0        40.0       19.46  1.604332e+09\n",
       "432  24.47   54.37     84.20      66.0         0.0        5.82  1.604332e+09\n",
       "433   4.71  -74.23     66.20      55.0        40.0        5.82  1.604332e+09\n",
       "434  43.47 -111.97     28.40      63.0         1.0        6.93  1.604332e+09\n",
       "435  58.52 -117.14     17.60     100.0        90.0        6.93  1.604332e+09\n",
       "\n",
       "[297 rows x 7 columns]"
      ]
     },
     "execution_count": 17,
     "metadata": {},
     "output_type": "execute_result"
    }
   ],
   "source": [
    "#desert \n",
    "#plt.annotate()\n",
    "northern=weather_df.loc[weather_df['Lat']>0].astype('float')\n",
    "southern=weather_df.loc[weather_df['Lat']<=0]\n",
    "\n",
    "def lr(x,y):\n",
    "    (slope, intercept, rvalue)= linregress(x,y)\n",
    "    regress_values= x * slope + intercept\n",
    "    line_eq= 'y = ' + str(round(slope, 2)) + 'x' +str(round(intercept, 2))\n",
    "    plt.scatter(x,y)\n",
    "    plt.annotate(line_eq, fontsize=15)\n",
    "northern"
   ]
  },
  {
   "cell_type": "markdown",
   "metadata": {},
   "source": [
    "####  Northern Hemisphere - Max Temp vs. Latitude Linear Regression"
   ]
  },
  {
   "cell_type": "code",
   "execution_count": 18,
   "metadata": {},
   "outputs": [
    {
     "name": "stdout",
     "output_type": "stream",
     "text": [
      "R squared: 0.7386986810342104\n"
     ]
    },
    {
     "data": {
      "text/plain": [
       "Text(5, 10, 'y = -1.09x + 93.49')"
      ]
     },
     "execution_count": 18,
     "metadata": {},
     "output_type": "execute_result"
    },
    {
     "data": {
      "image/png": "[encoded data removed]",
      "text/plain": [
       "<Figure size 432x288 with 1 Axes>"
      ]
     },
     "metadata": {
      "needs_background": "light"
     },
     "output_type": "display_data"
    }
   ],
   "source": [
    "(slope, intercept, rvalue, pvalue, stderr) = linregress(northern['Lat'].astype(float), northern['Max Temp'].astype(float))\n",
    "regress_values= northern['Lat'].astype(float) * slope + intercept\n",
    "line_eq= 'y = ' + str(round(slope, 2)) + 'x + ' +str(round(intercept, 2))\n",
    "plt.scatter(northern['Lat'], northern['Max Temp'])\n",
    "plt.plot(northern['Lat'],regress_values,\"r-\")\n",
    "print(f\"R squared: {rvalue**2}\")\n",
    "\n",
    "\n",
    "# plt.annotate(line_eq, northern['Lat'].astype(float), northern['Max Temp'].astype(float),fontsize=15)\n",
    "plt.annotate(line_eq,(5,10),fontsize=15,color=\"red\")"
   ]
  },
  {
   "cell_type": "markdown",
   "metadata": {},
   "source": [
    "####  Southern Hemisphere - Max Temp vs. Latitude Linear Regression"
   ]
  },
  {
   "cell_type": "code",
   "execution_count": 19,
   "metadata": {},
   "outputs": [
    {
     "name": "stdout",
     "output_type": "stream",
     "text": [
      "R squared: 0.4168530477101414\n"
     ]
    },
    {
     "data": {
      "image/png": "[encoded data removed]",
      "text/plain": [
       "<Figure size 432x288 with 1 Axes>"
      ]
     },
     "metadata": {
      "needs_background": "light"
     },
     "output_type": "display_data"
    }
   ],
   "source": [
    "(slope, intercept, rvalue, pvalue, stderr) = linregress(southern['Lat'].astype(float), southern['Max Temp'].astype(float))\n",
    "regress_values= southern['Lat'].astype(float) * slope + intercept\n",
    "line_eq= 'y = ' + str(round(slope, 2)) + 'x + ' +str(round(intercept, 2))\n",
    "plt.scatter(southern['Lat'], southern['Max Temp']);\n",
    "plt.plot(southern['Lat'],regress_values,\"r-\");\n",
    "print(f\"R squared: {rvalue**2}\")\n",
    "\n",
    "# plt.annotate(line_eq, northern['Lat'].astype(float), northern['Max Temp'].astype(float),fontsize=15)\n",
    "plt.annotate(line_eq,(-50,80),fontsize=15,color=\"red\");"
   ]
  },
  {
   "cell_type": "markdown",
   "metadata": {},
   "source": [
    "####  Northern Hemisphere - Humidity (%) vs. Latitude Linear Regression"
   ]
  },
  {
   "cell_type": "code",
   "execution_count": 20,
   "metadata": {},
   "outputs": [
    {
     "name": "stdout",
     "output_type": "stream",
     "text": [
      "R squared: 0.1273725628457778\n"
     ]
    },
    {
     "data": {
      "image/png": "[encoded data removed]",
      "text/plain": [
       "<Figure size 432x288 with 1 Axes>"
      ]
     },
     "metadata": {
      "needs_background": "light"
     },
     "output_type": "display_data"
    }
   ],
   "source": [
    "(slope, intercept, rvalue, pvalue, stderr) = linregress(northern['Lat'].astype(float), northern['Humidity'].astype(float))\n",
    "regress_values= northern['Lat'].astype(float) * slope + intercept\n",
    "line_eq= 'y = ' + str(round(slope, 2)) + 'x + ' +str(round(intercept, 2))\n",
    "plt.scatter(northern['Lat'], northern['Humidity']);\n",
    "plt.plot(northern['Lat'],regress_values,\"r-\");\n",
    "print(f\"R squared: {rvalue**2}\")\n",
    "\n",
    "# plt.annotate(line_eq, northern['Lat'].astype(float), northern['Max Temp'].astype(float),fontsize=15)\n",
    "plt.annotate(line_eq,(10,80),fontsize=15,color=\"red\");"
   ]
  },
  {
   "cell_type": "markdown",
   "metadata": {},
   "source": [
    "####  Southern Hemisphere - Humidity (%) vs. Latitude Linear Regression"
   ]
  },
  {
   "cell_type": "code",
   "execution_count": 21,
   "metadata": {},
   "outputs": [
    {
     "name": "stdout",
     "output_type": "stream",
     "text": [
      "R squared: 0.011075664341846914\n"
     ]
    },
    {
     "data": {
      "image/png": "[encoded data removed]",
      "text/plain": [
       "<Figure size 432x288 with 1 Axes>"
      ]
     },
     "metadata": {
      "needs_background": "light"
     },
     "output_type": "display_data"
    }
   ],
   "source": [
    "(slope, intercept, rvalue, pvalue, stderr) = linregress(southern['Lat'].astype(float), southern['Humidity'].astype(float))\n",
    "regress_values= southern['Lat'].astype(float) * slope + intercept\n",
    "line_eq= 'y = ' + str(round(slope, 2)) + 'x + ' +str(round(intercept, 2))\n",
    "plt.scatter(southern['Lat'], southern['Humidity']);\n",
    "plt.plot(southern['Lat'],regress_values,\"r-\");\n",
    "print(f\"R squared: {rvalue**2}\")\n",
    "\n",
    "# plt.annotate(line_eq, northern['Lat'].astype(float), northern['Max Temp'].astype(float),fontsize=15)\n",
    "plt.annotate(line_eq,(-50,80),fontsize=15,color=\"red\");"
   ]
  },
  {
   "cell_type": "markdown",
   "metadata": {},
   "source": [
    "####  Northern Hemisphere - Cloudiness (%) vs. Latitude Linear Regression"
   ]
  },
  {
   "cell_type": "code",
   "execution_count": 22,
   "metadata": {},
   "outputs": [
    {
     "name": "stdout",
     "output_type": "stream",
     "text": [
      "R squared: 0.03305159327946163\n"
     ]
    },
    {
     "data": {
      "image/png": "[encoded data removed]",
      "text/plain": [
       "<Figure size 432x288 with 1 Axes>"
      ]
     },
     "metadata": {
      "needs_background": "light"
     },
     "output_type": "display_data"
    }
   ],
   "source": [
    "(slope, intercept, rvalue, pvalue, stderr) = linregress(northern['Lat'].astype(float), northern['Cloudiness'].astype(float))\n",
    "regress_values= northern['Lat'].astype(float) * slope + intercept\n",
    "line_eq= 'y = ' + str(round(slope, 2)) + 'x + ' +str(round(intercept, 2))\n",
    "plt.scatter(northern['Lat'], northern['Cloudiness']);\n",
    "plt.plot(northern['Lat'],regress_values,\"r-\");\n",
    "print(f\"R squared: {rvalue**2}\")\n",
    "\n",
    "# plt.annotate(line_eq, northern['Lat'].astype(float), northern['Max Temp'].astype(float),fontsize=15)\n",
    "plt.annotate(line_eq,(50,80),fontsize=15,color=\"red\");"
   ]
  },
  {
   "cell_type": "markdown",
   "metadata": {},
   "source": [
    "####  Southern Hemisphere - Cloudiness (%) vs. Latitude Linear Regression"
   ]
  },
  {
   "cell_type": "code",
   "execution_count": 23,
   "metadata": {},
   "outputs": [
    {
     "name": "stdout",
     "output_type": "stream",
     "text": [
      "R squared: 0.011075664341846914\n"
     ]
    },
    {
     "data": {
      "image/png": "[encoded data removed]",
      "text/plain": [
       "<Figure size 432x288 with 1 Axes>"
      ]
     },
     "metadata": {
      "needs_background": "light"
     },
     "output_type": "display_data"
    }
   ],
   "source": [
    "(slope, intercept, rvalue, pvalue, stderr) = linregress(southern['Lat'].astype(float), southern['Humidity'].astype(float))\n",
    "regress_values= southern['Lat'].astype(float) * slope + intercept\n",
    "line_eq= 'y = ' + str(round(slope, 2)) + 'x + ' +str(round(intercept, 2))\n",
    "plt.scatter(southern['Lat'], southern['Humidity']);\n",
    "plt.plot(southern['Lat'],regress_values,\"r-\");\n",
    "print(f\"R squared: {rvalue**2}\")\n",
    "\n",
    "# plt.annotate(line_eq, northern['Lat'].astype(float), northern['Max Temp'].astype(float),fontsize=15)\n",
    "plt.annotate(line_eq,(-50,80),fontsize=15,color=\"red\");"
   ]
  },
  {
   "cell_type": "markdown",
   "metadata": {},
   "source": [
    "####  Northern Hemisphere - Wind Speed (mph) vs. Latitude Linear Regression"
   ]
  },
  {
   "cell_type": "code",
   "execution_count": 24,
   "metadata": {},
   "outputs": [
    {
     "name": "stdout",
     "output_type": "stream",
     "text": [
      "R squared: 0.06608377875786163\n"
     ]
    },
    {
     "data": {
      "text/plain": [
       "Text(50, 20, 'y = 0.09x + 5.18')"
      ]
     },
     "execution_count": 24,
     "metadata": {},
     "output_type": "execute_result"
    },
    {
     "data": {
      "image/png": "[encoded data removed]",
      "text/plain": [
       "<Figure size 432x288 with 1 Axes>"
      ]
     },
     "metadata": {
      "needs_background": "light"
     },
     "output_type": "display_data"
    }
   ],
   "source": [
    "(slope, intercept, rvalue, pvalue, stderr) = linregress(northern['Lat'].astype(float), northern['Wind Speed'].astype(float))\n",
    "regress_values= northern['Lat'].astype(float) * slope + intercept\n",
    "line_eq= 'y = ' + str(round(slope, 2)) + 'x + ' +str(round(intercept, 2))\n",
    "plt.scatter(northern['Lat'], northern['Wind Speed'])\n",
    "plt.plot(northern['Lat'],regress_values,\"r-\")\n",
    "print(f\"R squared: {rvalue**2}\")\n",
    "\n",
    "# plt.annotate(line_eq, northern['Lat'].astype(float), northern['Max Temp'].astype(float),fontsize=15)\n",
    "plt.annotate(line_eq,(50,20),fontsize=15,color=\"red\")"
   ]
  },
  {
   "cell_type": "markdown",
   "metadata": {},
   "source": [
    "####  Southern Hemisphere - Wind Speed (mph) vs. Latitude Linear Regression"
   ]
  },
  {
   "cell_type": "code",
   "execution_count": 25,
   "metadata": {},
   "outputs": [
    {
     "name": "stdout",
     "output_type": "stream",
     "text": [
      "R squared: 0.028914158602662058\n"
     ]
    },
    {
     "data": {
      "image/png": "[encoded data removed]",
      "text/plain": [
       "<Figure size 432x288 with 1 Axes>"
      ]
     },
     "metadata": {
      "needs_background": "light"
     },
     "output_type": "display_data"
    }
   ],
   "source": [
    "(slope, intercept, rvalue, pvalue, stderr) = linregress(southern['Lat'].astype(float), southern['Wind Speed'].astype(float))\n",
    "regress_values= southern['Lat'].astype(float) * slope + intercept\n",
    "line_eq= 'y = ' + str(round(slope, 2)) + 'x + ' +str(round(intercept, 2))\n",
    "plt.scatter(southern['Lat'], southern['Wind Speed']);\n",
    "plt.plot(southern['Lat'],regress_values,\"r-\");\n",
    "print(f\"R squared: {rvalue**2}\")\n",
    "\n",
    "# plt.annotate(line_eq, northern['Lat'].astype(float), northern['Max Temp'].astype(float),fontsize=15)\n",
    "plt.annotate(line_eq,(-50,25),fontsize=15,color=\"red\");"
   ]
  },
  {
   "cell_type": "code",
   "execution_count": null,
   "metadata": {},
   "outputs": [],
   "source": []
  },
  {
   "cell_type": "code",
   "execution_count": null,
   "metadata": {},
   "outputs": [],
   "source": []
  }
 ],
 "metadata": {
  "anaconda-cloud": {},
  "kernel_info": {
   "name": "python3"
  },
  "kernelspec": {
   "display_name": "Python 3",
   "language": "python",
   "name": "python3"
  },
  "language_info": {
   "codemirror_mode": {
    "name": "ipython",
    "version": 3
   },
   "file_extension": ".py",
   "mimetype": "text/x-python",
   "name": "python",
   "nbconvert_exporter": "python",
   "pygments_lexer": "ipython3",
   "version": "3.8.3"
  },
  "latex_envs": {
   "LaTeX_envs_menu_present": true,
   "autoclose": false,
   "autocomplete": true,
   "bibliofile": "biblio.bib",
   "cite_by": "apalike",
   "current_citInitial": 1,
   "eqLabelWithNumbers": true,
   "eqNumInitial": 1,
   "hotkeys": {
    "equation": "Ctrl-E",
    "itemize": "Ctrl-I"
   },
   "labels_anchors": false,
   "latex_user_defs": false,
   "report_style_numbering": false,
   "user_envs_cfg": false
  },
  "nteract": {
   "version": "0.12.3"
  }
 },
 "nbformat": 4,
 "nbformat_minor": 2
}
